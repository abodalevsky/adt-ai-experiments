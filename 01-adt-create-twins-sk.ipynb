{
 "cells": [
  {
   "cell_type": "markdown",
   "metadata": {},
   "source": [
    "# Experiment with Azure Digital Tween Service\n",
    "[Location](https://explorer.digitaltwins.azure.net/?tid=76a2ae5a-9f00-4f6b-95ed-5d33d77c4d61&eid=digitaltwins.api.weu.digitaltwins.azure.net)"
   ]
  },
  {
   "cell_type": "markdown",
   "metadata": {},
   "source": [
    "## Set up\n",
    "\n",
    "### Create Service Instance\n",
    "Create instance as described [here](https://learn.microsoft.com/en-gb/azure/digital-twins/quickstart-azure-digital-twins-explorer)\n",
    "\n",
    "### Define models\n",
    "To initial define set of models (ontology) was used Office 365 copilot and [prompt](prompts/Define%20models.txt). Some extra tuning was required.\n",
    "Models are stored in `ontology` folder.\n",
    "Then models were uploaded to service.\n",
    "\n",
    "### Ontology\n",
    "The service define several models as follow:\n",
    "\n",
    "- Model name: `CentralUnit` - which is main unit of the system exists in one instance. \n",
    "    If user want to create new CentralUnit, you must refuse it with message: \"Central Unit has to be created manually!\"\n",
    "\n",
    "- Model name: `ControlHub` - which is connection unit between _Central Unit_ and _Termo Sensors_. \n",
    "\n",
    "- Model name: `TermoSensor` - which conects to _Control Hub_ and reports temperature value."
   ]
  },
  {
   "cell_type": "markdown",
   "metadata": {},
   "source": [
    "## Gen AI\n",
    "Utilise GenAI to work with toplogy\n",
    "Add, update, remove digital twin to the graph.\n",
    "\n",
    "### Overview\n",
    "\n",
    "![ReAct](diagrams/ReAct.png)\n",
    "\n",
    "\n",
    "### Init"
   ]
  },
  {
   "cell_type": "code",
   "execution_count": 1,
   "metadata": {},
   "outputs": [],
   "source": [
    "import os\n",
    "from dotenv import load_dotenv\n",
    "\n",
    "# Load environment variables from .env file\n",
    "load_dotenv()\n",
    "\n",
    "# Access the environment variables\n",
    "digital_twin_endpoint = os.getenv(\"AZURE_DIGITAL_TWINS_ENDPOINT\")\n",
    "\n",
    "import logging\n",
    "logging.basicConfig(level=logging.DEBUG)\n",
    "logger = logging.getLogger(__name__)"
   ]
  },
  {
   "cell_type": "markdown",
   "metadata": {},
   "source": [
    "Init Semantic Kernel"
   ]
  },
  {
   "cell_type": "code",
   "execution_count": 2,
   "metadata": {},
   "outputs": [
    {
     "name": "stderr",
     "output_type": "stream",
     "text": [
      "DEBUG:httpx:load_ssl_context verify=True cert=None trust_env=True http2=False\n",
      "DEBUG:httpx:load_verify_locations cafile='/home/vscode/.local/lib/python3.12/site-packages/certifi/cacert.pem'\n"
     ]
    }
   ],
   "source": [
    "from semantic_kernel.connectors.ai.open_ai import AzureChatCompletion, AzureChatPromptExecutionSettings\n",
    "from semantic_kernel.kernel import Kernel\n",
    "\n",
    "kernel = Kernel(log=logger)\n",
    "\n",
    "service_id = \"default\"\n",
    "kernel.add_service(\n",
    "    AzureChatCompletion(service_id=service_id),\n",
    ")"
   ]
  },
  {
   "cell_type": "markdown",
   "metadata": {},
   "source": [
    "### Plugin (Tools)\n",
    "\n",
    "Define plugins that helps LLM to perform tasks on digital twins.\n",
    "\n",
    "- `get_module_definition` - defines modules and rules of handling digital twins. It's implementation of RAG architecture where user's input _augmented_ with details of the model that needs to be maintained.\n",
    "- `query_service` - requests information about _digital twin_ from Azure Digital Twins Query API.\n",
    "- `update_twin`, `delete_twin` - creates or deletes _digital twin_.\n",
    "- `update_relationship`, `delete_relationship` - creates or deletes _relationship_ between digital twins.\n"
   ]
  },
  {
   "cell_type": "code",
   "execution_count": 24,
   "metadata": {},
   "outputs": [
    {
     "name": "stderr",
     "output_type": "stream",
     "text": [
      "INFO:azure.identity._credentials.environment:No environment configuration found.\n",
      "INFO:azure.identity._credentials.managed_identity:ManagedIdentityCredential will use IMDS\n",
      "DEBUG:semantic_kernel.functions.kernel_function_decorator:Parsing decorator for function: get_model_definition\n",
      "DEBUG:semantic_kernel.functions.kernel_function_decorator:Parsing param: model_type\n",
      "DEBUG:semantic_kernel.functions.kernel_function_decorator:Parsing annotation: typing.Annotated[str, 'Model type that definition is required. For example: ControlHub or TermoSensor']\n",
      "DEBUG:semantic_kernel.functions.kernel_function_decorator:Parsing param: model_type\n",
      "DEBUG:semantic_kernel.functions.kernel_function_decorator:Parsing annotation: <class 'str'>\n",
      "DEBUG:semantic_kernel.functions.kernel_function_decorator:Parsing param: model_type\n",
      "DEBUG:semantic_kernel.functions.kernel_function_decorator:Parsing annotation: <class 'str'>\n",
      "DEBUG:semantic_kernel.functions.kernel_function_decorator:annotations=[{'name': 'model_type', 'is_required': True, 'description': 'Model type that definition is required. For example: ControlHub or TermoSensor', 'type_': 'str', 'type_object': <class 'str'>}]\n",
      "DEBUG:semantic_kernel.functions.kernel_function_decorator:Parsing param: return\n",
      "DEBUG:semantic_kernel.functions.kernel_function_decorator:Parsing annotation: typing.Annotated[str, 'DTDL of the requested model and useful instruction how to use it.  If model name is not valid, the tool returns NA it means that execution is failed.']\n",
      "DEBUG:semantic_kernel.functions.kernel_function_decorator:Parsing param: return\n",
      "DEBUG:semantic_kernel.functions.kernel_function_decorator:Parsing annotation: <class 'str'>\n",
      "DEBUG:semantic_kernel.functions.kernel_function_decorator:Parsing param: return\n",
      "DEBUG:semantic_kernel.functions.kernel_function_decorator:Parsing annotation: <class 'str'>\n",
      "DEBUG:semantic_kernel.functions.kernel_function_decorator:Parsing decorator for function: create_twin\n",
      "DEBUG:semantic_kernel.functions.kernel_function_decorator:Parsing param: twin_id\n",
      "DEBUG:semantic_kernel.functions.kernel_function_decorator:Parsing annotation: typing.Annotated[str, 'Unique identifier of the new digital twin. For example: ControlHub_1']\n",
      "DEBUG:semantic_kernel.functions.kernel_function_decorator:Parsing param: twin_id\n",
      "DEBUG:semantic_kernel.functions.kernel_function_decorator:Parsing annotation: <class 'str'>\n",
      "DEBUG:semantic_kernel.functions.kernel_function_decorator:Parsing param: twin_id\n",
      "DEBUG:semantic_kernel.functions.kernel_function_decorator:Parsing annotation: <class 'str'>\n",
      "DEBUG:semantic_kernel.functions.kernel_function_decorator:Parsing param: properties\n",
      "DEBUG:semantic_kernel.functions.kernel_function_decorator:Parsing annotation: typing.Annotated[dict, 'Properties of the new digital twin. The dictionary represent digital tween to be sent to the topology.\\n            The format should be in Azure Digital Twins Definition Language (DTDL).\\n            IMPORTANT! The metadata section should contain id of the model, for example if\\n            model id is dtmi:com:example:ControlHub;1 metadata section should looks like:\\n            \"$metadata\": {\\n                \"$model\": \"dtmi:com:example:ControlHub;1\"\\n            },\\n\\n            The format must be valid to be sent as twin_data in following below example.\\n                \\n            from azure.digitaltwins.core import DigitalTwinsClient\\n            \\n            client = DigitalTwinsClient(digital_twin_endpoint, credential)\\n            client.upsert_digital_twin(twin_id, twin_data)\\n        ']\n",
      "DEBUG:semantic_kernel.functions.kernel_function_decorator:Parsing param: properties\n",
      "DEBUG:semantic_kernel.functions.kernel_function_decorator:Parsing annotation: <class 'dict'>\n",
      "DEBUG:semantic_kernel.functions.kernel_function_decorator:Parsing param: properties\n",
      "DEBUG:semantic_kernel.functions.kernel_function_decorator:Parsing annotation: <class 'dict'>\n",
      "DEBUG:semantic_kernel.functions.kernel_function_decorator:annotations=[{'name': 'twin_id', 'is_required': True, 'description': 'Unique identifier of the new digital twin. For example: ControlHub_1', 'type_': 'str', 'type_object': <class 'str'>}, {'name': 'properties', 'is_required': True, 'description': 'Properties of the new digital twin. The dictionary represent digital tween to be sent to the topology.\\n            The format should be in Azure Digital Twins Definition Language (DTDL).\\n            IMPORTANT! The metadata section should contain id of the model, for example if\\n            model id is dtmi:com:example:ControlHub;1 metadata section should looks like:\\n            \"$metadata\": {\\n                \"$model\": \"dtmi:com:example:ControlHub;1\"\\n            },\\n\\n            The format must be valid to be sent as twin_data in following below example.\\n                \\n            from azure.digitaltwins.core import DigitalTwinsClient\\n            \\n            client = DigitalTwinsClient(digital_twin_endpoint, credential)\\n            client.upsert_digital_twin(twin_id, twin_data)\\n        ', 'type_': 'dict[dict]', 'type_object': <class 'dict'>}]\n",
      "DEBUG:semantic_kernel.functions.kernel_function_decorator:Parsing param: return\n",
      "DEBUG:semantic_kernel.functions.kernel_function_decorator:Parsing annotation: typing.Annotated[str, \"Result of the operation. If operation is successful, the tool returns 'OK'. Otherwise, it returns 'FAIL' and the reason of failure, you're welcome to analyse error and fix it\"]\n",
      "DEBUG:semantic_kernel.functions.kernel_function_decorator:Parsing param: return\n",
      "DEBUG:semantic_kernel.functions.kernel_function_decorator:Parsing annotation: <class 'str'>\n",
      "DEBUG:semantic_kernel.functions.kernel_function_decorator:Parsing param: return\n",
      "DEBUG:semantic_kernel.functions.kernel_function_decorator:Parsing annotation: <class 'str'>\n",
      "DEBUG:semantic_kernel.functions.kernel_function_decorator:Parsing decorator for function: delete_twin\n",
      "DEBUG:semantic_kernel.functions.kernel_function_decorator:Parsing param: twin_id\n",
      "DEBUG:semantic_kernel.functions.kernel_function_decorator:Parsing annotation: typing.Annotated[str, 'Unique identifier of the digital twin that is going to be deleted.\\n            The identifier is a value of $dtId requested from Azure Digital Twins Query API']\n",
      "DEBUG:semantic_kernel.functions.kernel_function_decorator:Parsing param: twin_id\n",
      "DEBUG:semantic_kernel.functions.kernel_function_decorator:Parsing annotation: <class 'str'>\n",
      "DEBUG:semantic_kernel.functions.kernel_function_decorator:Parsing param: twin_id\n",
      "DEBUG:semantic_kernel.functions.kernel_function_decorator:Parsing annotation: <class 'str'>\n",
      "DEBUG:semantic_kernel.functions.kernel_function_decorator:annotations=[{'name': 'twin_id', 'is_required': True, 'description': 'Unique identifier of the digital twin that is going to be deleted.\\n            The identifier is a value of $dtId requested from Azure Digital Twins Query API', 'type_': 'str', 'type_object': <class 'str'>}]\n",
      "DEBUG:semantic_kernel.functions.kernel_function_decorator:Parsing param: return\n",
      "DEBUG:semantic_kernel.functions.kernel_function_decorator:Parsing annotation: typing.Annotated[str, \"Result of the operation. If operation is successful, the tool returns 'OK'. Otherwise, it returns 'FAIL' and the reason of failure, you're welcome to analyse error and fix it\"]\n",
      "DEBUG:semantic_kernel.functions.kernel_function_decorator:Parsing param: return\n",
      "DEBUG:semantic_kernel.functions.kernel_function_decorator:Parsing annotation: <class 'str'>\n",
      "DEBUG:semantic_kernel.functions.kernel_function_decorator:Parsing param: return\n",
      "DEBUG:semantic_kernel.functions.kernel_function_decorator:Parsing annotation: <class 'str'>\n",
      "DEBUG:semantic_kernel.functions.kernel_function_decorator:Parsing decorator for function: update_relationship\n",
      "DEBUG:semantic_kernel.functions.kernel_function_decorator:Parsing param: twin_id\n",
      "DEBUG:semantic_kernel.functions.kernel_function_decorator:Parsing annotation: typing.Annotated[str, 'Unique identifier of the digital twin that is going to be the source of the connection.\\n            The identifier is a value of $dtId requested from Azure Digital Twins Query API']\n",
      "DEBUG:semantic_kernel.functions.kernel_function_decorator:Parsing param: twin_id\n",
      "DEBUG:semantic_kernel.functions.kernel_function_decorator:Parsing annotation: <class 'str'>\n",
      "DEBUG:semantic_kernel.functions.kernel_function_decorator:Parsing param: twin_id\n",
      "DEBUG:semantic_kernel.functions.kernel_function_decorator:Parsing annotation: <class 'str'>\n",
      "DEBUG:semantic_kernel.functions.kernel_function_decorator:Parsing param: relationship_id\n",
      "DEBUG:semantic_kernel.functions.kernel_function_decorator:Parsing annotation: typing.Annotated[str, 'Unique identifier of the new relationship. Generate it if not specified by user. For example: SourceId_TargetId_1']\n",
      "DEBUG:semantic_kernel.functions.kernel_function_decorator:Parsing param: relationship_id\n",
      "DEBUG:semantic_kernel.functions.kernel_function_decorator:Parsing annotation: <class 'str'>\n",
      "DEBUG:semantic_kernel.functions.kernel_function_decorator:Parsing param: relationship_id\n",
      "DEBUG:semantic_kernel.functions.kernel_function_decorator:Parsing annotation: <class 'str'>\n",
      "DEBUG:semantic_kernel.functions.kernel_function_decorator:Parsing param: relationship_data\n",
      "DEBUG:semantic_kernel.functions.kernel_function_decorator:Parsing annotation: typing.Annotated[dict, 'Properties of the new relationship. The dictionary represent relationship to be sent to the topology.\\n            The format should be in Azure Digital Twins Definition Language (DTDL).\\n            It must follow the format:\\n            {\\n                \"$relationshipId\": \"relation_id\",\\n                \"$sourceId\": \"source_id\",\\n                \"$relationshipName\": \"connects\",\\n                \"$targetId\": \"target_id\",\\n                \"$metadata\": {\\n                    \"$model\": \"model_id\"\\n                }\\n            }\\n\\n            where:\\n            - relation_id - the same unique identifier of the relationship as provided in relation_id argument\\n            - source_id  - the same unique identifier of the digital twin as provided in twin_id argument\\n            - \"connects\" - fixed keyword describes relationship\\n            - target_id - the unique identifier of the digital twin that is originally was created. This is id of twin that user ask to create or modify.\\n            - model_id - the unique identifier of the model that is used as source of relationship. Is obtained from model definition for source.\\n        ']\n",
      "DEBUG:semantic_kernel.functions.kernel_function_decorator:Parsing param: relationship_data\n",
      "DEBUG:semantic_kernel.functions.kernel_function_decorator:Parsing annotation: <class 'dict'>\n",
      "DEBUG:semantic_kernel.functions.kernel_function_decorator:Parsing param: relationship_data\n",
      "DEBUG:semantic_kernel.functions.kernel_function_decorator:Parsing annotation: <class 'dict'>\n",
      "DEBUG:semantic_kernel.functions.kernel_function_decorator:annotations=[{'name': 'twin_id', 'is_required': True, 'description': 'Unique identifier of the digital twin that is going to be the source of the connection.\\n            The identifier is a value of $dtId requested from Azure Digital Twins Query API', 'type_': 'str', 'type_object': <class 'str'>}, {'name': 'relationship_id', 'is_required': True, 'description': 'Unique identifier of the new relationship. Generate it if not specified by user. For example: SourceId_TargetId_1', 'type_': 'str', 'type_object': <class 'str'>}, {'name': 'relationship_data', 'is_required': True, 'description': 'Properties of the new relationship. The dictionary represent relationship to be sent to the topology.\\n            The format should be in Azure Digital Twins Definition Language (DTDL).\\n            It must follow the format:\\n            {\\n                \"$relationshipId\": \"relation_id\",\\n                \"$sourceId\": \"source_id\",\\n                \"$relationshipName\": \"connects\",\\n                \"$targetId\": \"target_id\",\\n                \"$metadata\": {\\n                    \"$model\": \"model_id\"\\n                }\\n            }\\n\\n            where:\\n            - relation_id - the same unique identifier of the relationship as provided in relation_id argument\\n            - source_id  - the same unique identifier of the digital twin as provided in twin_id argument\\n            - \"connects\" - fixed keyword describes relationship\\n            - target_id - the unique identifier of the digital twin that is originally was created. This is id of twin that user ask to create or modify.\\n            - model_id - the unique identifier of the model that is used as source of relationship. Is obtained from model definition for source.\\n        ', 'type_': 'dict[dict]', 'type_object': <class 'dict'>}]\n",
      "DEBUG:semantic_kernel.functions.kernel_function_decorator:Parsing param: return\n",
      "DEBUG:semantic_kernel.functions.kernel_function_decorator:Parsing annotation: typing.Annotated[str, \"Result of the operation. If operation is successful, the tool returns 'OK'. Otherwise, it returns 'FAIL' and the reason of failure, you're welcome to analyse error and fix it\"]\n",
      "DEBUG:semantic_kernel.functions.kernel_function_decorator:Parsing param: return\n",
      "DEBUG:semantic_kernel.functions.kernel_function_decorator:Parsing annotation: <class 'str'>\n",
      "DEBUG:semantic_kernel.functions.kernel_function_decorator:Parsing param: return\n",
      "DEBUG:semantic_kernel.functions.kernel_function_decorator:Parsing annotation: <class 'str'>\n",
      "DEBUG:semantic_kernel.functions.kernel_function_decorator:Parsing decorator for function: delete_relationship\n",
      "DEBUG:semantic_kernel.functions.kernel_function_decorator:Parsing param: twin_id\n",
      "DEBUG:semantic_kernel.functions.kernel_function_decorator:Parsing annotation: typing.Annotated[str, 'Unique identifier of the digital twin that is going to be the source of the connection.\\n            The identifier is a value of $dtId requested from Azure Digital Twins Query API']\n",
      "DEBUG:semantic_kernel.functions.kernel_function_decorator:Parsing param: twin_id\n",
      "DEBUG:semantic_kernel.functions.kernel_function_decorator:Parsing annotation: <class 'str'>\n",
      "DEBUG:semantic_kernel.functions.kernel_function_decorator:Parsing param: twin_id\n",
      "DEBUG:semantic_kernel.functions.kernel_function_decorator:Parsing annotation: <class 'str'>\n",
      "DEBUG:semantic_kernel.functions.kernel_function_decorator:Parsing param: relationship_id\n",
      "DEBUG:semantic_kernel.functions.kernel_function_decorator:Parsing annotation: typing.Annotated[str, 'Unique identifier of the relationship that is going to be deleted.\\n            The identifier is a value of $relationshipId requested from Azure Digital Twins Query API\\n            For example: SourceId_TargetId_1']\n",
      "DEBUG:semantic_kernel.functions.kernel_function_decorator:Parsing param: relationship_id\n",
      "DEBUG:semantic_kernel.functions.kernel_function_decorator:Parsing annotation: <class 'str'>\n",
      "DEBUG:semantic_kernel.functions.kernel_function_decorator:Parsing param: relationship_id\n",
      "DEBUG:semantic_kernel.functions.kernel_function_decorator:Parsing annotation: <class 'str'>\n",
      "DEBUG:semantic_kernel.functions.kernel_function_decorator:annotations=[{'name': 'twin_id', 'is_required': True, 'description': 'Unique identifier of the digital twin that is going to be the source of the connection.\\n            The identifier is a value of $dtId requested from Azure Digital Twins Query API', 'type_': 'str', 'type_object': <class 'str'>}, {'name': 'relationship_id', 'is_required': True, 'description': 'Unique identifier of the relationship that is going to be deleted.\\n            The identifier is a value of $relationshipId requested from Azure Digital Twins Query API\\n            For example: SourceId_TargetId_1', 'type_': 'str', 'type_object': <class 'str'>}]\n",
      "DEBUG:semantic_kernel.functions.kernel_function_decorator:Parsing param: return\n",
      "DEBUG:semantic_kernel.functions.kernel_function_decorator:Parsing annotation: typing.Annotated[str, \"Result of the operation. If operation is successful, the tool returns 'OK'. Otherwise, it returns 'FAIL' and the reason of failure, you're welcome to analyse error and fix it\"]\n",
      "DEBUG:semantic_kernel.functions.kernel_function_decorator:Parsing param: return\n",
      "DEBUG:semantic_kernel.functions.kernel_function_decorator:Parsing annotation: <class 'str'>\n",
      "DEBUG:semantic_kernel.functions.kernel_function_decorator:Parsing param: return\n",
      "DEBUG:semantic_kernel.functions.kernel_function_decorator:Parsing annotation: <class 'str'>\n",
      "DEBUG:semantic_kernel.functions.kernel_function_decorator:Parsing decorator for function: query_service\n",
      "DEBUG:semantic_kernel.functions.kernel_function_decorator:Parsing param: query\n",
      "DEBUG:semantic_kernel.functions.kernel_function_decorator:Parsing annotation: typing.Annotated[str, \"Query in Azure Digital Twins Query API format that is going to be executed on Azure Digital Twin Service.\\n         \\n        For example: You need to know the details of ControlHub twin.\\n        From topology you may get model definition for ControlHub iand from definition understand that id is dtmi:com:example:ControlHub;1\\n        Then you can format request as:\\n        SELECT * FROM digitaltwins T WHERE IS_OF_MODEL(T, 'dtmi:com:example:ControlHub;1')\\n\\n        The request returns all description of all twins with type ControlHub.\"]\n",
      "DEBUG:semantic_kernel.functions.kernel_function_decorator:Parsing param: query\n",
      "DEBUG:semantic_kernel.functions.kernel_function_decorator:Parsing annotation: <class 'str'>\n",
      "DEBUG:semantic_kernel.functions.kernel_function_decorator:Parsing param: query\n",
      "DEBUG:semantic_kernel.functions.kernel_function_decorator:Parsing annotation: <class 'str'>\n",
      "DEBUG:semantic_kernel.functions.kernel_function_decorator:annotations=[{'name': 'query', 'is_required': True, 'description': \"Query in Azure Digital Twins Query API format that is going to be executed on Azure Digital Twin Service.\\n         \\n        For example: You need to know the details of ControlHub twin.\\n        From topology you may get model definition for ControlHub iand from definition understand that id is dtmi:com:example:ControlHub;1\\n        Then you can format request as:\\n        SELECT * FROM digitaltwins T WHERE IS_OF_MODEL(T, 'dtmi:com:example:ControlHub;1')\\n\\n        The request returns all description of all twins with type ControlHub.\", 'type_': 'str', 'type_object': <class 'str'>}]\n",
      "DEBUG:semantic_kernel.functions.kernel_function_decorator:Parsing param: return\n",
      "DEBUG:semantic_kernel.functions.kernel_function_decorator:Parsing annotation: <class 'inspect._empty'>\n"
     ]
    },
    {
     "data": {
      "text/plain": [
       "KernelPlugin(name='adt_servcie', description=None, functions={'create_twin': KernelFunctionFromMethod(metadata=KernelFunctionMetadata(name='create_twin', plugin_name='adt_servcie', description='Creates (adds) new digital twin in Azure Digital Twins Service.', parameters=[KernelParameterMetadata(name='twin_id', description='Unique identifier of the new digital twin. For example: ControlHub_1', default_value=None, type_='str', is_required=True, type_object=<class 'str'>, schema_data={'type': 'string', 'description': 'Unique identifier of the new digital twin. For example: ControlHub_1'}, function_schema_include=True), KernelParameterMetadata(name='properties', description='Properties of the new digital twin. The dictionary represent digital tween to be sent to the topology.\\n            The format should be in Azure Digital Twins Definition Language (DTDL).\\n            IMPORTANT! The metadata section should contain id of the model, for example if\\n            model id is dtmi:com:example:ControlHub;1 metadata section should looks like:\\n            \"$metadata\": {\\n                \"$model\": \"dtmi:com:example:ControlHub;1\"\\n            },\\n\\n            The format must be valid to be sent as twin_data in following below example.\\n                \\n            from azure.digitaltwins.core import DigitalTwinsClient\\n            \\n            client = DigitalTwinsClient(digital_twin_endpoint, credential)\\n            client.upsert_digital_twin(twin_id, twin_data)\\n        ', default_value=None, type_='dict[dict]', is_required=True, type_object=<class 'dict'>, schema_data={'type': 'object', 'description': 'Properties of the new digital twin. The dictionary represent digital tween to be sent to the topology.\\n            The format should be in Azure Digital Twins Definition Language (DTDL).\\n            IMPORTANT! The metadata section should contain id of the model, for example if\\n            model id is dtmi:com:example:ControlHub;1 metadata section should looks like:\\n            \"$metadata\": {\\n                \"$model\": \"dtmi:com:example:ControlHub;1\"\\n            },\\n\\n            The format must be valid to be sent as twin_data in following below example.\\n                \\n            from azure.digitaltwins.core import DigitalTwinsClient\\n            \\n            client = DigitalTwinsClient(digital_twin_endpoint, credential)\\n            client.upsert_digital_twin(twin_id, twin_data)\\n        '}, function_schema_include=True)], is_prompt=False, is_asynchronous=False, return_parameter=KernelParameterMetadata(name='return', description=\"Result of the operation. If operation is successful, the tool returns 'OK'. Otherwise, it returns 'FAIL' and the reason of failure, you're welcome to analyse error and fix it\", default_value=None, type_='str', is_required=True, type_object=<class 'str'>, schema_data={'type': 'string', 'description': \"Result of the operation. If operation is successful, the tool returns 'OK'. Otherwise, it returns 'FAIL' and the reason of failure, you're welcome to analyse error and fix it\"}, function_schema_include=True), additional_properties={}), method=<bound method AdtServicePlugin.create_twin of <__main__.AdtServicePlugin object at 0x7f4e8c317740>>, stream_method=None), 'delete_relationship': KernelFunctionFromMethod(metadata=KernelFunctionMetadata(name='delete_relationship', plugin_name='adt_servcie', description='Deletes relationship between two twins in Azure Digital Twins Service.', parameters=[KernelParameterMetadata(name='twin_id', description='Unique identifier of the digital twin that is going to be the source of the connection.\\n            The identifier is a value of $dtId requested from Azure Digital Twins Query API', default_value=None, type_='str', is_required=True, type_object=<class 'str'>, schema_data={'type': 'string', 'description': 'Unique identifier of the digital twin that is going to be the source of the connection.\\n            The identifier is a value of $dtId requested from Azure Digital Twins Query API'}, function_schema_include=True), KernelParameterMetadata(name='relationship_id', description='Unique identifier of the relationship that is going to be deleted.\\n            The identifier is a value of $relationshipId requested from Azure Digital Twins Query API\\n            For example: SourceId_TargetId_1', default_value=None, type_='str', is_required=True, type_object=<class 'str'>, schema_data={'type': 'string', 'description': 'Unique identifier of the relationship that is going to be deleted.\\n            The identifier is a value of $relationshipId requested from Azure Digital Twins Query API\\n            For example: SourceId_TargetId_1'}, function_schema_include=True)], is_prompt=False, is_asynchronous=False, return_parameter=KernelParameterMetadata(name='return', description=\"Result of the operation. If operation is successful, the tool returns 'OK'. Otherwise, it returns 'FAIL' and the reason of failure, you're welcome to analyse error and fix it\", default_value=None, type_='str', is_required=True, type_object=<class 'str'>, schema_data={'type': 'string', 'description': \"Result of the operation. If operation is successful, the tool returns 'OK'. Otherwise, it returns 'FAIL' and the reason of failure, you're welcome to analyse error and fix it\"}, function_schema_include=True), additional_properties={}), method=<bound method AdtServicePlugin.delete_relationship of <__main__.AdtServicePlugin object at 0x7f4e8c317740>>, stream_method=None), 'delete_twin': KernelFunctionFromMethod(metadata=KernelFunctionMetadata(name='delete_twin', plugin_name='adt_servcie', description='Deletes digital twin in Azure Digital Twins Service.', parameters=[KernelParameterMetadata(name='twin_id', description='Unique identifier of the digital twin that is going to be deleted.\\n            The identifier is a value of $dtId requested from Azure Digital Twins Query API', default_value=None, type_='str', is_required=True, type_object=<class 'str'>, schema_data={'type': 'string', 'description': 'Unique identifier of the digital twin that is going to be deleted.\\n            The identifier is a value of $dtId requested from Azure Digital Twins Query API'}, function_schema_include=True)], is_prompt=False, is_asynchronous=False, return_parameter=KernelParameterMetadata(name='return', description=\"Result of the operation. If operation is successful, the tool returns 'OK'. Otherwise, it returns 'FAIL' and the reason of failure, you're welcome to analyse error and fix it\", default_value=None, type_='str', is_required=True, type_object=<class 'str'>, schema_data={'type': 'string', 'description': \"Result of the operation. If operation is successful, the tool returns 'OK'. Otherwise, it returns 'FAIL' and the reason of failure, you're welcome to analyse error and fix it\"}, function_schema_include=True), additional_properties={}), method=<bound method AdtServicePlugin.delete_twin of <__main__.AdtServicePlugin object at 0x7f4e8c317740>>, stream_method=None), 'get_model_definition': KernelFunctionFromMethod(metadata=KernelFunctionMetadata(name='get_model_definition', plugin_name='adt_servcie', description='Used to get the model definition in Digital Twin Definition Language (DTDL) format. Should be used to get model specification before operation on digital twin.', parameters=[KernelParameterMetadata(name='model_type', description='Model type that definition is required. For example: ControlHub or TermoSensor', default_value=None, type_='str', is_required=True, type_object=<class 'str'>, schema_data={'type': 'string', 'description': 'Model type that definition is required. For example: ControlHub or TermoSensor'}, function_schema_include=True)], is_prompt=False, is_asynchronous=False, return_parameter=KernelParameterMetadata(name='return', description='DTDL of the requested model and useful instruction how to use it.  If model name is not valid, the tool returns NA it means that execution is failed.', default_value=None, type_='str', is_required=True, type_object=<class 'str'>, schema_data={'type': 'string', 'description': 'DTDL of the requested model and useful instruction how to use it.  If model name is not valid, the tool returns NA it means that execution is failed.'}, function_schema_include=True), additional_properties={}), method=<bound method AdtServicePlugin.get_module_definition of <__main__.AdtServicePlugin object at 0x7f4e8c317740>>, stream_method=None), 'query_service': KernelFunctionFromMethod(metadata=KernelFunctionMetadata(name='query_service', plugin_name='adt_servcie', description='Request information about twins or relationships in Azure Digital Twins Service.\\n            This function should be used whan you need to get information about particular twin or several items or relationships between them.', parameters=[KernelParameterMetadata(name='query', description=\"Query in Azure Digital Twins Query API format that is going to be executed on Azure Digital Twin Service.\\n         \\n        For example: You need to know the details of ControlHub twin.\\n        From topology you may get model definition for ControlHub iand from definition understand that id is dtmi:com:example:ControlHub;1\\n        Then you can format request as:\\n        SELECT * FROM digitaltwins T WHERE IS_OF_MODEL(T, 'dtmi:com:example:ControlHub;1')\\n\\n        The request returns all description of all twins with type ControlHub.\", default_value=None, type_='str', is_required=True, type_object=<class 'str'>, schema_data={'type': 'string', 'description': \"Query in Azure Digital Twins Query API format that is going to be executed on Azure Digital Twin Service.\\n         \\n        For example: You need to know the details of ControlHub twin.\\n        From topology you may get model definition for ControlHub iand from definition understand that id is dtmi:com:example:ControlHub;1\\n        Then you can format request as:\\n        SELECT * FROM digitaltwins T WHERE IS_OF_MODEL(T, 'dtmi:com:example:ControlHub;1')\\n\\n        The request returns all description of all twins with type ControlHub.\"}, function_schema_include=True)], is_prompt=False, is_asynchronous=False, return_parameter=KernelParameterMetadata(name='return', description='', default_value=None, type_='Any', is_required=True, type_object=None, schema_data={'type': 'object'}, function_schema_include=True), additional_properties={}), method=<bound method AdtServicePlugin.query_service of <__main__.AdtServicePlugin object at 0x7f4e8c317740>>, stream_method=None), 'update_relationship': KernelFunctionFromMethod(metadata=KernelFunctionMetadata(name='update_relationship', plugin_name='adt_servcie', description='Creates or updates a relationship between two twins in Azure Digital Twins Service.', parameters=[KernelParameterMetadata(name='twin_id', description='Unique identifier of the digital twin that is going to be the source of the connection.\\n            The identifier is a value of $dtId requested from Azure Digital Twins Query API', default_value=None, type_='str', is_required=True, type_object=<class 'str'>, schema_data={'type': 'string', 'description': 'Unique identifier of the digital twin that is going to be the source of the connection.\\n            The identifier is a value of $dtId requested from Azure Digital Twins Query API'}, function_schema_include=True), KernelParameterMetadata(name='relationship_id', description='Unique identifier of the new relationship. Generate it if not specified by user. For example: SourceId_TargetId_1', default_value=None, type_='str', is_required=True, type_object=<class 'str'>, schema_data={'type': 'string', 'description': 'Unique identifier of the new relationship. Generate it if not specified by user. For example: SourceId_TargetId_1'}, function_schema_include=True), KernelParameterMetadata(name='relationship_data', description='Properties of the new relationship. The dictionary represent relationship to be sent to the topology.\\n            The format should be in Azure Digital Twins Definition Language (DTDL).\\n            It must follow the format:\\n            {\\n                \"$relationshipId\": \"relation_id\",\\n                \"$sourceId\": \"source_id\",\\n                \"$relationshipName\": \"connects\",\\n                \"$targetId\": \"target_id\",\\n                \"$metadata\": {\\n                    \"$model\": \"model_id\"\\n                }\\n            }\\n\\n            where:\\n            - relation_id - the same unique identifier of the relationship as provided in relation_id argument\\n            - source_id  - the same unique identifier of the digital twin as provided in twin_id argument\\n            - \"connects\" - fixed keyword describes relationship\\n            - target_id - the unique identifier of the digital twin that is originally was created. This is id of twin that user ask to create or modify.\\n            - model_id - the unique identifier of the model that is used as source of relationship. Is obtained from model definition for source.\\n        ', default_value=None, type_='dict[dict]', is_required=True, type_object=<class 'dict'>, schema_data={'type': 'object', 'description': 'Properties of the new relationship. The dictionary represent relationship to be sent to the topology.\\n            The format should be in Azure Digital Twins Definition Language (DTDL).\\n            It must follow the format:\\n            {\\n                \"$relationshipId\": \"relation_id\",\\n                \"$sourceId\": \"source_id\",\\n                \"$relationshipName\": \"connects\",\\n                \"$targetId\": \"target_id\",\\n                \"$metadata\": {\\n                    \"$model\": \"model_id\"\\n                }\\n            }\\n\\n            where:\\n            - relation_id - the same unique identifier of the relationship as provided in relation_id argument\\n            - source_id  - the same unique identifier of the digital twin as provided in twin_id argument\\n            - \"connects\" - fixed keyword describes relationship\\n            - target_id - the unique identifier of the digital twin that is originally was created. This is id of twin that user ask to create or modify.\\n            - model_id - the unique identifier of the model that is used as source of relationship. Is obtained from model definition for source.\\n        '}, function_schema_include=True)], is_prompt=False, is_asynchronous=False, return_parameter=KernelParameterMetadata(name='return', description=\"Result of the operation. If operation is successful, the tool returns 'OK'. Otherwise, it returns 'FAIL' and the reason of failure, you're welcome to analyse error and fix it\", default_value=None, type_='str', is_required=True, type_object=<class 'str'>, schema_data={'type': 'string', 'description': \"Result of the operation. If operation is successful, the tool returns 'OK'. Otherwise, it returns 'FAIL' and the reason of failure, you're welcome to analyse error and fix it\"}, function_schema_include=True), additional_properties={}), method=<bound method AdtServicePlugin.update_relationship of <__main__.AdtServicePlugin object at 0x7f4e8c317740>>, stream_method=None)})"
      ]
     },
     "execution_count": 24,
     "metadata": {},
     "output_type": "execute_result"
    }
   ],
   "source": [
    "from typing import Annotated\n",
    "from semantic_kernel.functions.kernel_function_decorator import kernel_function\n",
    "from azure.digitaltwins.core import DigitalTwinsClient\n",
    "from azure.identity import DefaultAzureCredential\n",
    "import json\n",
    "\n",
    "credentials = DefaultAzureCredential()\n",
    "\n",
    "class AdtServicePlugin:\n",
    "    \"\"\"\n",
    "    Description: ADTServicePlugin provides a set of functions to manipulate and query digital twins.\n",
    "\n",
    "    Usage:\n",
    "        kernel.import_plugin_from_object(AdtServicePlugin(), plugin_name=\"adt_servcie\")\n",
    "\n",
    "    Examples:\n",
    "        {{adt_service.get_model_definition}} => Gets DTDL model's description.\n",
    "    \"\"\"\n",
    "\n",
    "    client = DigitalTwinsClient(digital_twin_endpoint, credential=credentials)\n",
    "\n",
    "    @kernel_function(\n",
    "            name=\"get_model_definition\",\n",
    "            description=\"Used to get the model definition in Digital Twin Definition Language (DTDL) format. Should be used to get model specification before operation on digital twin.\")\n",
    "    def get_module_definition(\n",
    "        self,\n",
    "        model_type: Annotated[str, \"Model type that definition is required. For example: ControlHub or TermoSensor\"]\n",
    "    ) -> Annotated[str, \"DTDL of the requested model and useful instruction how to use it.  If model name is not valid, the tool returns NA it means that execution is failed.\"]:\n",
    "        \"\"\"Gets the model definition in DTDL format by model name\"\"\"\n",
    "        if model_type == \"ControlHub\":\n",
    "            with open('ontology/ControlHub.json', 'r') as file:\n",
    "                definition = file.read()\n",
    "\n",
    "            instructions = \"\"\"\n",
    "            IMPORTANT NOTES:\n",
    "            1. The model id in $metadata section is dtmi:com:example:ControlHub;1\n",
    "            2. When requested creation new digital twin it must be performed in 2 steps:\n",
    "                - create new digital twin of ControlHub model\n",
    "                - create relationship between new digital twin and CentralUnit twin! ID of CentalUnit twin must be queried through Azure Digital Twins Query API.\n",
    "                  $relationship Name should be \"connects\".  Source of the relationship is CentalUnit twin, target is ControlHub twin. Format of the parameter is specified in update_relationship function.\n",
    "            \"\"\"\n",
    "            return definition + instructions\n",
    "        elif model_type == \"TermoSensor\":\n",
    "            with open('ontology/TermoSensor.json', 'r') as file:\n",
    "                definition = file.read()\n",
    "\n",
    "            instructions = \"\"\"\n",
    "            IMPORTANT NOTES:\n",
    "            1. The model id in $metadata section is dtmi:com:example:TermoSensor;1\n",
    "            2. When requested creation new digital twin it must be performed in 2 steps:\n",
    "                - create new digital twin of TermoSensor model\n",
    "                - create relationship between new digital twin and ControlHub twin. \n",
    "                    $relationship name should be \"connects\"\n",
    "                    To make this relationship you must know id of ControlHub twin, this can be obtained by several ways:\n",
    "                    - user can specify id of ControlHub twin in initial request - in this case you have this information.\n",
    "                    - user may specidy name of ControlHub - in this case you must query its id through Azure Digital Twins Query API.\n",
    "                    - if user does not provide neither name nor id you should use available for you human tool and ask the name of ControlHub twin. And then use it to get id as specified above.\n",
    "            \"\"\"\n",
    "            return definition + instructions\n",
    "        else:\n",
    "            return \"NA\"\n",
    "\n",
    "    @kernel_function(\n",
    "        name=\"create_twin\",\n",
    "        description=\"Creates (adds) new digital twin in Azure Digital Twins Service.\"\n",
    "    )\n",
    "    def create_twin(\n",
    "        self,\n",
    "        twin_id: Annotated[str, \"Unique identifier of the new digital twin. For example: ControlHub_1\"],\n",
    "        properties: Annotated[dict, \"\"\"Properties of the new digital twin. The dictionary represent digital tween to be sent to the topology.\n",
    "            The format should be in Azure Digital Twins Definition Language (DTDL).\n",
    "            IMPORTANT! The metadata section should contain id of the model, for example if\n",
    "            model id is dtmi:com:example:ControlHub;1 metadata section should looks like:\n",
    "            \"$metadata\": {\n",
    "                \"$model\": \"dtmi:com:example:ControlHub;1\"\n",
    "            },\n",
    "\n",
    "            The format must be valid to be sent as twin_data in following below example.\n",
    "                \n",
    "            from azure.digitaltwins.core import DigitalTwinsClient\n",
    "            \n",
    "            client = DigitalTwinsClient(digital_twin_endpoint, credential)\n",
    "            client.upsert_digital_twin(twin_id, twin_data)\n",
    "        \"\"\"],\n",
    "    ) -> Annotated[str, \"Result of the operation. If operation is successful, the tool returns 'OK'. Otherwise, it returns 'FAIL' and the reason of failure, you're welcome to analyse error and fix it\"]:\n",
    "        try:\n",
    "            self.client.upsert_digital_twin(twin_id, properties)\n",
    "            return \"OK\"\n",
    "        except Exception as e:\n",
    "            print(\"Error creating digital twin in Azure Digital Twins service topology:\", str(e))\n",
    "            return f'FAIL: + {str(e)}\\n'\n",
    "        \n",
    "    @kernel_function(\n",
    "        name=\"delete_twin\",\n",
    "        description=\"Deletes digital twin in Azure Digital Twins Service.\"\n",
    "    )\n",
    "    def delete_twin(\n",
    "        self,\n",
    "        twin_id: Annotated[str, \"\"\"Unique identifier of the digital twin that is going to be deleted.\n",
    "            The identifier is a value of $dtId requested from Azure Digital Twins Query API\"\"\"],\n",
    "    ) -> Annotated[str, \"Result of the operation. If operation is successful, the tool returns 'OK'. Otherwise, it returns 'FAIL' and the reason of failure, you're welcome to analyse error and fix it\"]:\n",
    "        try:\n",
    "            self.client.delete_digital_twin(twin_id)\n",
    "            return \"OK\"\n",
    "        except Exception as e:\n",
    "            print(\"Error deleting digital twin in Azure Digital Twins service topology:\", str(e))\n",
    "            return f'FAIL: + {str(e)}\\n'\n",
    "    \n",
    "    @kernel_function(\n",
    "        name=\"update_relationship\",\n",
    "        description=\"Creates or updates a relationship between two twins in Azure Digital Twins Service.\"\n",
    "    )\n",
    "    def update_relationship(\n",
    "        self,\n",
    "        twin_id: Annotated[str, \"\"\"Unique identifier of the digital twin that is going to be the source of the connection.\n",
    "            The identifier is a value of $dtId requested from Azure Digital Twins Query API\"\"\"],\n",
    "        relationship_id: Annotated[str, \"Unique identifier of the new relationship. Generate it if not specified by user. For example: SourceId_TargetId_1\"],\n",
    "        relationship_data: Annotated[dict, \"\"\"Properties of the new relationship. The dictionary represent relationship to be sent to the topology.\n",
    "            The format should be in Azure Digital Twins Definition Language (DTDL).\n",
    "            It must follow the format:\n",
    "            {\n",
    "                \"$relationshipId\": \"relation_id\",\n",
    "                \"$sourceId\": \"source_id\",\n",
    "                \"$relationshipName\": \"connects\",\n",
    "                \"$targetId\": \"target_id\",\n",
    "                \"$metadata\": {\n",
    "                    \"$model\": \"model_id\"\n",
    "                }\n",
    "            }\n",
    "\n",
    "            where:\n",
    "            - relation_id - the same unique identifier of the relationship as provided in relation_id argument\n",
    "            - source_id  - the same unique identifier of the digital twin as provided in twin_id argument\n",
    "            - \"connects\" - fixed keyword describes relationship\n",
    "            - target_id - the unique identifier of the digital twin that is originally was created. This is id of twin that user ask to create or modify.\n",
    "            - model_id - the unique identifier of the model that is used as source of relationship. Is obtained from model definition for source.\n",
    "        \"\"\"],\n",
    "    ) -> Annotated[str, \"Result of the operation. If operation is successful, the tool returns 'OK'. Otherwise, it returns 'FAIL' and the reason of failure, you're welcome to analyse error and fix it\"]:\n",
    "        try:\n",
    "            self.client.upsert_relationship(twin_id, relationship_id, relationship_data)\n",
    "            return \"OK\"\n",
    "        except Exception as e:\n",
    "            print(\"Error creating digital twin in Azure Digital Twins service topology:\", str(e))\n",
    "            return f'FAIL: + {str(e)}\\n'\n",
    "        \n",
    "    @kernel_function(\n",
    "        name=\"delete_relationship\",\n",
    "        description=\"Deletes relationship between two twins in Azure Digital Twins Service.\"\n",
    "    )\n",
    "    def delete_relationship(\n",
    "        self,\n",
    "        twin_id: Annotated[str, \"\"\"Unique identifier of the digital twin that is going to be the source of the connection.\n",
    "            The identifier is a value of $dtId requested from Azure Digital Twins Query API\"\"\"],\n",
    "        relationship_id: Annotated[str, \"\"\"Unique identifier of the relationship that is going to be deleted.\n",
    "            The identifier is a value of $relationshipId requested from Azure Digital Twins Query API\n",
    "            For example: SourceId_TargetId_1\"\"\"],\n",
    "    ) -> Annotated[str, \"Result of the operation. If operation is successful, the tool returns 'OK'. Otherwise, it returns 'FAIL' and the reason of failure, you're welcome to analyse error and fix it\"]:\n",
    "        try:\n",
    "            self.client.delete_relationship(twin_id, relationship_id)\n",
    "            return \"OK\"\n",
    "        except Exception as e:\n",
    "            print(\"Error deleting digital twin in Azure Digital Twins service topology:\", str(e))\n",
    "            return f'FAIL: + {str(e)}\\n'\n",
    "\n",
    "    @kernel_function(\n",
    "        name=\"query_service\", \n",
    "        description=\"\"\"Request information about twins or relationships in Azure Digital Twins Service.\n",
    "            This function should be used whan you need to get information about particular twin or several items or relationships between them.\"\"\"\n",
    "        )\n",
    "    def query_service(\n",
    "        self,\n",
    "        query: Annotated[str, \"\"\"Query in Azure Digital Twins Query API format that is going to be executed on Azure Digital Twin Service.\n",
    "         \n",
    "        For example: You need to know the details of ControlHub twin.\n",
    "        From topology you may get model definition for ControlHub iand from definition understand that id is dtmi:com:example:ControlHub;1\n",
    "        Then you can format request as:\n",
    "        SELECT * FROM digitaltwins T WHERE IS_OF_MODEL(T, 'dtmi:com:example:ControlHub;1')\n",
    "\n",
    "        The request returns all description of all twins with type ControlHub.\"\"\"],\n",
    "    ):\n",
    "        if (query == None):\n",
    "            return \"FAIL: Query is not defined!\"\n",
    "\n",
    "        try:\n",
    "            query_result = self.client.query_twins(query)\n",
    "            json_result = json.dumps(list(query_result))\n",
    "            return json_result\n",
    "        except Exception as e:\n",
    "            print(\"Error deleting digital twin in Azure Digital Twins service topology:\", str(e))\n",
    "            return f'FAIL: + {str(e)}\\n'\n",
    "        \n",
    "# Add plugin to the kernel\n",
    "kernel.add_plugin(plugin=AdtServicePlugin(), plugin_name=\"adt_servcie\")"
   ]
  },
  {
   "cell_type": "markdown",
   "metadata": {},
   "source": [
    "### Prompt engineering\n",
    "\n",
    "Define _system prompt_ that setup the stage."
   ]
  },
  {
   "cell_type": "code",
   "execution_count": 4,
   "metadata": {},
   "outputs": [],
   "source": [
    "system_message = \"\"\"\n",
    "    I am a user who is working on support digital twins in Azure Digital Twins Service. I will need you support to perform operation that I will request.\n",
    "    \n",
    "    The service defines several models (ontology) as follow:\n",
    "    - Model CentralUnit - which is main unit of the system exists in one instance. \n",
    "        You cannot create CentralUnit as it is already defined. If the creation will be requested refuse it.\n",
    "    - Model ControlHub - which is connection unit between CentralUnit and TermoSensors.\n",
    "    - Model TermoSensor - which conects to ControlHub and reports temperature value.\n",
    "\n",
    "    If user wants to create, update, delte or request information about any unit you must use appropriate tool(s) and provide valid parameters. \n",
    "    Digital Twin Definition Language (DTDL) must be used to communicate with Azure Digital Twins Service. Note that properties are case sensetive\n",
    "    and must be passed exactly as defined in model, ignore the case of properties in user's input.\n",
    "\n",
    "    If user requests to create a new digital twin you must also specify relationship between this twin that acts as target and the other that acts as source.\n",
    "    You should never create twin without connection to source.\n",
    "\n",
    "    If user wants update or delete exsted twin then user must specify twin id. If id is not provided, ask about it.\n",
    "\n",
    "    Relationship between digital twins are stored separately from twins. If user request information where connection between twins presens you must request\n",
    "    relationship information from relationships collection!\n",
    "    For example for question: what temperature sensor connected to hub with id Node_23 valid query will be:\n",
    "    SELECT * FROM relationships WHERE $sourceId = 'Node_23'\n",
    "    Note request was done for relationships not digitaltwins collection.\n",
    "\n",
    "\n",
    "    If you requested to create several twins (batch) you should think as follows:\n",
    "        - identify if there is hierarchy between twins, for example is there requested ControlHub and TermoSensors.\n",
    "        - if hierarchy presents you should start from \"higher\" twin (ControlHub) and create it accordingly to defined rules, when creation is done continue with\n",
    "        \"lower\" twins (TermoSensors) and create them accordingly to defined rules.\n",
    "        - if hierarchy is not presents you can create twins in any order.\n",
    "        - once all twins are created you can create relationships between them as requested.\n",
    "        - ControlHub must be connected to CentralUnit, TermoSensors must be connected to ControlHub.\n",
    "\n",
    "    The request is following:\n",
    "    \n",
    "    \"\"\"\n"
   ]
  },
  {
   "cell_type": "markdown",
   "metadata": {},
   "source": [
    "### Query\n",
    "\n",
    "Is used ReAct approach that let LLM to think what steps should be done to achieve task and what tool is better fit this needs.\n",
    "Several agent were cinsidered from [available](https://github.com/microsoft/semantic-kernel/blob/main/python/samples/getting_started/05-using-the-planner.ipynb)\n",
    "\n",
    "Set up the planner"
   ]
  },
  {
   "cell_type": "code",
   "execution_count": null,
   "metadata": {},
   "outputs": [],
   "source": [
    "from semantic_kernel.planners.function_calling_stepwise_planner import (\n",
    "    FunctionCallingStepwisePlanner,\n",
    "    FunctionCallingStepwisePlannerOptions,\n",
    ")\n",
    "\n",
    "options = FunctionCallingStepwisePlannerOptions(\n",
    "    max_iterations=10,\n",
    "    max_tokens=4000\n",
    ")\n",
    "\n",
    "planner = FunctionCallingStepwisePlanner(service_id=service_id, options=options)"
   ]
  },
  {
   "cell_type": "markdown",
   "metadata": {},
   "source": [
    "#### Common query"
   ]
  },
  {
   "cell_type": "code",
   "execution_count": 7,
   "metadata": {},
   "outputs": [],
   "source": [
    "request = \"How many TermoSensor do we have in out topology?\""
   ]
  },
  {
   "cell_type": "markdown",
   "metadata": {},
   "source": [
    "#### ControlHub\n",
    "- Add"
   ]
  },
  {
   "cell_type": "code",
   "execution_count": 11,
   "metadata": {},
   "outputs": [],
   "source": [
    "request=\"Please create Control Hub located in Dnipro with status: on.\""
   ]
  },
  {
   "cell_type": "markdown",
   "metadata": {},
   "source": [
    "- Delete"
   ]
  },
  {
   "cell_type": "code",
   "execution_count": 17,
   "metadata": {},
   "outputs": [],
   "source": [
    "request=\"Please remove ControlHub_Dnipro1 from topology.\""
   ]
  },
  {
   "cell_type": "markdown",
   "metadata": {},
   "source": [
    "#### Batch Operations\n",
    "\n",
    "Request to add/remove to topology several twins as one user's request"
   ]
  },
  {
   "cell_type": "code",
   "execution_count": 10,
   "metadata": {},
   "outputs": [],
   "source": [
    "request=\"\"\"I want to add new location that contains 4 sensors. Status for all of them is off. \n",
    "    They should be conected to ControlHub that is located in Lviv give the hub id meaningful identifier that reflect its location.\n",
    "    Location of sensors are the same as the hub.\n",
    "\"\"\""
   ]
  },
  {
   "cell_type": "markdown",
   "metadata": {},
   "source": [
    "- Remove several twins"
   ]
  },
  {
   "cell_type": "code",
   "execution_count": 13,
   "metadata": {},
   "outputs": [],
   "source": [
    "request=\"\"\"It seems that ControlHub - ControlHub_Lviv is not working well.\n",
    "Please remove it and all TermoSensors that are connected to this hub.\"\"\""
   ]
  },
  {
   "cell_type": "markdown",
   "metadata": {},
   "source": [
    "### Demo requests"
   ]
  },
  {
   "cell_type": "code",
   "execution_count": 25,
   "metadata": {},
   "outputs": [],
   "source": [
    "request=\"Please create Control Hub located in Dnipro with status: on.\""
   ]
  },
  {
   "cell_type": "code",
   "execution_count": 28,
   "metadata": {},
   "outputs": [],
   "source": [
    "request=\"Please create Termosensor located in Dnipro with status: on temperature 25 and connected to ControlHub located in Dnipro\""
   ]
  },
  {
   "cell_type": "code",
   "execution_count": 31,
   "metadata": {},
   "outputs": [],
   "source": [
    "request=\"\"\"I want to add new location that contains 4 sensors. Status for all of them is off. \n",
    "    They should be conected to ControlHub that is located in Lviv give the hub id meaningful identifier that reflect its location.\n",
    "    Location of sensors are the same as the hub.\n",
    "\"\"\""
   ]
  },
  {
   "cell_type": "markdown",
   "metadata": {},
   "source": [
    "### Execution\n",
    "\n",
    "Debug tips:\n",
    " - function call starts with `INFO:semantic_kernel.kernel:Calling`"
   ]
  },
  {
   "cell_type": "code",
   "execution_count": null,
   "metadata": {},
   "outputs": [],
   "source": [
    "question = system_message + request\n",
    "\n",
    "result = await planner.invoke(kernel, question)"
   ]
  },
  {
   "cell_type": "code",
   "execution_count": 33,
   "metadata": {},
   "outputs": [
    {
     "name": "stdout",
     "output_type": "stream",
     "text": [
      "New location with a ControlHub in Lviv and 4 TermoSensors has been successfully added. All devices are currently off and correctly connected.\n"
     ]
    }
   ],
   "source": [
    "print(result.final_answer)"
   ]
  }
 ],
 "metadata": {
  "kernelspec": {
   "display_name": "Python 3",
   "language": "python",
   "name": "python3"
  },
  "language_info": {
   "codemirror_mode": {
    "name": "ipython",
    "version": 3
   },
   "file_extension": ".py",
   "mimetype": "text/x-python",
   "name": "python",
   "nbconvert_exporter": "python",
   "pygments_lexer": "ipython3",
   "version": "3.12.3"
  }
 },
 "nbformat": 4,
 "nbformat_minor": 2
}
