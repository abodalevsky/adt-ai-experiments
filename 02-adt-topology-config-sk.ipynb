{
 "cells": [
  {
   "cell_type": "markdown",
   "metadata": {},
   "source": [
    "# Experiment with Azure Digital Tween Service\n",
    "[Location](https://explorer.digitaltwins.azure.net/?tid=76a2ae5a-9f00-4f6b-95ed-5d33d77c4d61&eid=digitaltwins.api.weu.digitaltwins.azure.net)"
   ]
  },
  {
   "cell_type": "markdown",
   "metadata": {},
   "source": [
    "## Set up\n",
    "\n",
    "### Create Service Instance\n",
    "Create instance as described [here](https://learn.microsoft.com/en-gb/azure/digital-twins/quickstart-azure-digital-twins-explorer)\n",
    "\n",
    "### Define models\n",
    "To initial define set of models (ontology) was used Office 365 copilot and [prompt](prompts/Define%20models.txt). Some extra tuning was required.\n",
    "Models are stored in `ontology` folder.\n",
    "Then models were uploaded to service.\n",
    "\n",
    "### Ontology\n",
    "The service define several models as follow:\n",
    "\n",
    "- Model name: `CentralUnit` - which is main unit of the system exists in one instance. \n",
    "    If user want to create new CentralUnit, you must refuse it with message: \"Central Unit has to be created manually!\"\n",
    "\n",
    "- Model name: `ControlHub` - which is connection unit between _Central Unit_ and _Termo Sensors_. \n",
    "\n",
    "- Model name: `TermoSensor` - which conects to _Control Hub_ and reports temperature value."
   ]
  },
  {
   "cell_type": "markdown",
   "metadata": {},
   "source": [
    "## Gen AI\n",
    "Utilise GenAI to work with toplogy. This section is designed to:\n",
    "- query information\n",
    "- modify state of exusted twins\n",
    "- simulate various scenarios\n",
    "\n",
    "for add/remove digital twin can be used [this notebook](01-adt-create-twins-sk.ipynb).\n",
    "\n",
    "### Overview\n",
    "\n",
    "![ReAct](diagrams/ReAct.png)\n",
    "\n",
    "\n",
    "### Init"
   ]
  },
  {
   "cell_type": "code",
   "execution_count": 20,
   "metadata": {},
   "outputs": [],
   "source": [
    "import os\n",
    "from dotenv import load_dotenv\n",
    "\n",
    "# Load environment variables from .env file\n",
    "load_dotenv()\n",
    "\n",
    "# Access the environment variables\n",
    "digital_twin_endpoint = os.getenv(\"AZURE_DIGITAL_TWINS_ENDPOINT\")\n",
    "\n",
    "import logging\n",
    "logging.basicConfig(level=logging.DEBUG)\n",
    "logger = logging.getLogger(__name__)"
   ]
  },
  {
   "cell_type": "markdown",
   "metadata": {},
   "source": [
    "Init Semantic Kernel"
   ]
  },
  {
   "cell_type": "code",
   "execution_count": 21,
   "metadata": {},
   "outputs": [
    {
     "name": "stderr",
     "output_type": "stream",
     "text": [
      "DEBUG:httpx:load_ssl_context verify=True cert=None trust_env=True http2=False\n",
      "DEBUG:httpx:load_verify_locations cafile='/home/vscode/.local/lib/python3.12/site-packages/certifi/cacert.pem'\n"
     ]
    }
   ],
   "source": [
    "from semantic_kernel.connectors.ai.open_ai import AzureChatCompletion, AzureChatPromptExecutionSettings\n",
    "from semantic_kernel.kernel import Kernel\n",
    "\n",
    "kernel = Kernel(log=logger)\n",
    "\n",
    "service_id = \"default\"\n",
    "kernel.add_service(\n",
    "    AzureChatCompletion(service_id=service_id),\n",
    ")"
   ]
  },
  {
   "cell_type": "markdown",
   "metadata": {},
   "source": [
    "### Plugin (Tools)\n",
    "\n",
    "Define plugins that helps LLM to perform tasks on digital twins.\n",
    "\n",
    "- `get_module_definition` - defines modules and rules of handling digital twins. It's implementation of RAG architecture where user's input _augmented_ with details of the model that needs to be maintained.\n",
    "- `query_service` - requests information about _digital twin_ from Azure Digital Twins Query API.\n",
    "- `update_twin` - updates properties for _digital twin_.\n"
   ]
  },
  {
   "cell_type": "code",
   "execution_count": null,
   "metadata": {},
   "outputs": [],
   "source": [
    "from typing import Annotated, List\n",
    "from semantic_kernel.functions.kernel_function_decorator import kernel_function\n",
    "from azure.digitaltwins.core import DigitalTwinsClient\n",
    "from azure.identity import DefaultAzureCredential\n",
    "import json\n",
    "\n",
    "credentials = DefaultAzureCredential()\n",
    "\n",
    "class AdtServicePlugin:\n",
    "    \"\"\"\n",
    "    Description: ADTServicePlugin provides a set of functions to manipulate and query digital twins.\n",
    "\n",
    "    Usage:\n",
    "        kernel.import_plugin_from_object(AdtServicePlugin(), plugin_name=\"adt_servcie\")\n",
    "\n",
    "    Examples:\n",
    "        {{adt_service.get_model_definition}} => Gets DTDL model's description.\n",
    "    \"\"\"\n",
    "\n",
    "    client = DigitalTwinsClient(digital_twin_endpoint, credential=credentials)\n",
    "\n",
    "    @kernel_function(\n",
    "            name=\"get_model_definition\",\n",
    "            description=\"Returns the model definition in Digital Twin Definition Language (DTDL) format. Should be used to get model specification before operation on digital twin.\")\n",
    "    def get_module_definition(\n",
    "        self,\n",
    "        model_type: Annotated[str, \"Model type that definition is required. For example: ControlHub or TermoSensor\"]\n",
    "    ) -> Annotated[str, \"DTDL of the requested model and useful instruction how to use it.  If model name is not valid, the tool returns NA it means that execution is failed.\"]:\n",
    "        \"\"\"Gets the model definition in DTDL format by model name\"\"\"\n",
    "        if model_type == \"ControlHub\":\n",
    "            with open('ontology/ControlHub.json', 'r') as file:\n",
    "                definition = file.read()\n",
    "\n",
    "            instructions = \"\"\"\n",
    "            IMPORTANT NOTES:\n",
    "            1. The model id in $metadata section is dtmi:com:example:ControlHub;1\n",
    "            2. When requested creation new digital twin it must be performed in 2 steps:\n",
    "                - create new digital twin of ControlHub model\n",
    "                - create relationship between new digital twin and CentralUnit twin! ID of CentalUnit twin must be queried through Azure Digital Twins Query API. $relationship Name should be \"connects\"\n",
    "            \"\"\"\n",
    "            return definition + instructions\n",
    "        elif model_type == \"TermoSensor\":\n",
    "            with open('ontology/TermoSensor.json', 'r') as file:\n",
    "                definition = file.read()\n",
    "\n",
    "            instructions = \"\"\"\n",
    "            IMPORTANT NOTES:\n",
    "            1. The model id in $metadata section is dtmi:com:example:TermoSensor;1\n",
    "            2. When requested creation new digital twin it must be performed in 2 steps:\n",
    "                - create new digital twin of TermoSensor model\n",
    "                - create relationship between new digital twin and ControlHub twin. \n",
    "                    $relationship name should be \"connects\"\n",
    "                    To make this relationship you must know id of ControlHub twin, this can be obtained by several ways:\n",
    "                    - user can specify id of ControlHub twin in initial request - in this case you have this information.\n",
    "                    - user may specidy name of ControlHub - in this case you must query its id through Azure Digital Twins Query API.\n",
    "                    - if user does not provide neither name nor id you should use available for you human tool and ask the name of ControlHub twin. And then use it to get id as specified above.\n",
    "            \"\"\"\n",
    "            return definition + instructions\n",
    "        else:\n",
    "            return \"NA\"\n",
    "\n",
    "    @kernel_function(\n",
    "        name=\"update_twin\",\n",
    "        description=\"Updates one or many properties of digital twin in Azure Digital Twins Service.\"\n",
    "    )\n",
    "    def update_twin(\n",
    "        self,\n",
    "        twin_id: Annotated[str, \"Unique identifier of the new digital twin. For example: ControlHub_1\"],\n",
    "        properties: Annotated[List[dict[str, object]], \"Properties new values that should be updated.\"],\n",
    "    ) -> Annotated[str, \"Result of the operation. If operation is successful, the tool returns 'OK'. Otherwise, it returns 'FAIL' and the reason of failure, you're welcome to analyse error and fix it\"]:\n",
    "        try:\n",
    "            self.client.update_digital_twin(twin_id, properties)\n",
    "            return \"OK\"\n",
    "        except Exception as e:\n",
    "            print(\"Error creating digital twin in Azure Digital Twins service topology:\", str(e))\n",
    "            return f'FAIL: + {str(e)}\\n'\n",
    "        \n",
    "    @kernel_function(\n",
    "        name=\"query_service\", \n",
    "        description=\"\"\"Request information about twins or relationships in Azure Digital Twins Service.\n",
    "            This function should be used whan you need to get information about particular twin or several items or relationships between them.\"\"\"\n",
    "        )\n",
    "    def query_service(\n",
    "        self,\n",
    "        query: Annotated[str, \"\"\"Query in Azure Digital Twins Query API format that is going to be executed on Azure Digital Twin Service.\n",
    "         \n",
    "        For example: You need to know the details of ControlHub twin.\n",
    "        From topology you may get model definition for ControlHub iand from definition understand that id is dtmi:com:example:ControlHub;1\n",
    "        Then you can format request as:\n",
    "        SELECT * FROM digitaltwins T WHERE IS_OF_MODEL(T, 'dtmi:com:example:ControlHub;1')\n",
    "\n",
    "        The request returns all description of all twins with type ControlHub.\"\"\"],\n",
    "    ):\n",
    "        if (query == None):\n",
    "            return \"FAIL: Query is not defined!\"\n",
    "\n",
    "        try:\n",
    "            query_result = self.client.query_twins(query)\n",
    "            json_result = json.dumps(list(query_result))\n",
    "            return json_result\n",
    "        except Exception as e:\n",
    "            print(\"Error deleting digital twin in Azure Digital Twins service topology:\", str(e))\n",
    "            return f'FAIL: + {str(e)}\\n'\n",
    "        \n",
    "# Add plugin to the kernel\n",
    "kernel.add_plugin(plugin=AdtServicePlugin(), plugin_name=\"adt_servcie\")"
   ]
  },
  {
   "cell_type": "markdown",
   "metadata": {},
   "source": [
    "### Prompt engineering\n",
    "\n",
    "Define _system prompt_ that setup the stage."
   ]
  },
  {
   "cell_type": "code",
   "execution_count": 6,
   "metadata": {},
   "outputs": [],
   "source": [
    "system_message = \"\"\"\n",
    "    I am a user who is working on support digital twins in Azure Digital Twins Service. I will need you support to perform operation that I will request.\n",
    "    \n",
    "    The service defines several models (ontology) as follow:\n",
    "    - Model CentralUnit - which is main unit of the system exists in one instance. \n",
    "        You cannot create CentralUnit as it is already defined. If the creation will be requested refuse it.\n",
    "    - Model ControlHub - which is connection unit between CentralUnit and TermoSensors.\n",
    "    - Model TermoSensor - which conects to ControlHub and reports temperature value.\n",
    "\n",
    "    My requests will be related to change some properties of existed twins. You should identify types of twins that I request to update and also relationships between them.\n",
    "\n",
    "    Relationship between digital twins are stored separately from twins. If user request information where connection between twins - you must request\n",
    "    relationship information from relationships collection!\n",
    "    For example for question: what temperature sensor connected to hub with id Node_23 valid query will be:\n",
    "    SELECT * FROM relationships WHERE $sourceId = 'Node_23'\n",
    "    Note request was done for relationships not digitaltwins collection.\n",
    "\n",
    "    Relationship collection contains following information about relationship (it is example):\n",
    "    {\n",
    "        \"$relationshipId\": \"ControlHub_Dnepr_TermoSensor_Dnepr_1\",\n",
    "        \"$sourceId\": \"ControlHub_Dnepr\",\n",
    "        \"$targetId\": \"TermoSensor_Dnepr_1\",\n",
    "        \"$relationshipName\": \"connects\",\n",
    "        \"$etag\": \"W/\\\"1dd250e7-6b1a-4fc4-bdbe-31c10583bd6d\\\"\"\n",
    "    },\n",
    "    ignore $etag field as it is not important for you.\n",
    "\n",
    "    If changes of properties for digital twin is required, you must use proper tool. Please be very careful with parameters that should be\n",
    "    provided to the tool. 1st parameter is digital twin id and 2nd parameter is list of properties that should be updated.\n",
    "    list of properties is a list of objects (dictionaries), format of each property is following:\n",
    "        {\n",
    "            \"op\":\"add\",\n",
    "            \"path\":\"/property_name\",\n",
    "            \"value\":property_value\n",
    "        }\n",
    "        where:\n",
    "            \"op\" - operation wih value \"add\", nothing else is accepted by function!\n",
    "            \"path\" - path to the property (property name) that should be updated, see example bellow\n",
    "            \"value\" - value that should be set.\n",
    "                              \n",
    "        For example: to change the property \"temperature\" to 35 and tge property \"status\" to \"on\" for TermoSensor twin, the properties parameter should be:\n",
    "            propertiess = [\n",
    "            {\n",
    "                \"op\": \"add\",\n",
    "                \"path\": \"/status\",\n",
    "                \"value\": \"on\"\n",
    "            },\n",
    "            {\n",
    "                \"op\": \"add\",\n",
    "                \"path\": \"/temperature\",\n",
    "                \"value\": 35\n",
    "            }\n",
    "        ]                            \n",
    "\n",
    "    For requests you must analyse properties of each twin and make appropriate queries to digitaltwins collection to get information about twins.\n",
    "    Example 1: if you requested all twins located in Kyiv, you must request all twins of appropriate type that are located in Kyiv. For this operation \n",
    "    relationship is not required.\n",
    "    Example 2: if you requested for all temperature sensors connected to any hub located in Odesa - you must request all ControlHub with location = Odesa\n",
    "    from digitaltwins collection and then request relationships collection to get all relationships where $sourceId is ControlHub twin id.\n",
    "\n",
    "    The request is following:\n",
    "    \n",
    "    \"\"\"\n"
   ]
  },
  {
   "cell_type": "markdown",
   "metadata": {},
   "source": [
    "### Query\n",
    "\n",
    "Is used ReAct approach that let LLM to think what steps should be done to achieve task and what tool is better fit this needs.\n",
    "Several agent were cinsidered from [available](https://github.com/microsoft/semantic-kernel/blob/main/python/samples/getting_started/05-using-the-planner.ipynb)\n",
    "\n",
    "Set up the planner"
   ]
  },
  {
   "cell_type": "code",
   "execution_count": null,
   "metadata": {},
   "outputs": [],
   "source": [
    "from semantic_kernel.planners.function_calling_stepwise_planner import (\n",
    "    FunctionCallingStepwisePlanner,\n",
    "    FunctionCallingStepwisePlannerOptions,\n",
    ")\n",
    "\n",
    "options = FunctionCallingStepwisePlannerOptions(\n",
    "    max_iterations=10,\n",
    "    max_tokens=4000\n",
    ")\n",
    "\n",
    "planner = FunctionCallingStepwisePlanner(service_id=service_id, options=options)"
   ]
  },
  {
   "cell_type": "markdown",
   "metadata": {},
   "source": [
    "#### Common query"
   ]
  },
  {
   "cell_type": "code",
   "execution_count": 9,
   "metadata": {},
   "outputs": [],
   "source": [
    "request = \"How many TermoSensor do we have in out topology?\"\n",
    "request = \"How many TermoSensors connected to Hub_3?\""
   ]
  },
  {
   "cell_type": "markdown",
   "metadata": {},
   "source": [
    "#### Predictable Maintenance\n",
    "forecast demand, topology analysys, simulation traffic"
   ]
  },
  {
   "cell_type": "code",
   "execution_count": 7,
   "metadata": {},
   "outputs": [],
   "source": [
    "request=\"Please create Control Hub with following parameters: name: Hub_SK, Location: Kernel, Status: on.\""
   ]
  },
  {
   "cell_type": "markdown",
   "metadata": {},
   "source": [
    "- Analytics"
   ]
  },
  {
   "cell_type": "code",
   "execution_count": 8,
   "metadata": {},
   "outputs": [],
   "source": [
    "request=\"How many termosensors does not have temperature value? I need also names of these sensors.\" # GOOD!"
   ]
  },
  {
   "cell_type": "code",
   "execution_count": 14,
   "metadata": {},
   "outputs": [],
   "source": [
    "request=\"please find top 3 hotter termosensors\" # GOOD!"
   ]
  },
  {
   "cell_type": "code",
   "execution_count": 17,
   "metadata": {},
   "outputs": [],
   "source": [
    "request=\"I'm lloking for location with temperature anomaly. Can you find location that I'm lloking for? By anomaly I assume temperature more than 35\""
   ]
  },
  {
   "cell_type": "markdown",
   "metadata": {},
   "source": [
    "! Interesting: for the request \n",
    "```\n",
    "request=\"I'm looking for any units that status is not on. Please provide me list of Id such units.\"\n",
    "```\n",
    "\n",
    "LLM is not able to find right tools and provide instructions to user....\n",
    "\n",
    "```\n",
    "To address your request, we need to identify all units (ControlHub and TermoSensor) whose status is not &quot;on&quot;. Here is the step-by-step plan to achieve this:\n",
    "\n",
    "1. Query the digitaltwins collection to get all ControlHub twins.\n",
    "2. Query the digitaltwins collection to get all TermoSensor twins.\n",
    "3. Filter the results from both queries to find twins where the status property is not &quot;on&quot;.\n",
    "4. Collect the IDs of these twins and provide the list.\n",
    "\n",
    "Since we don't have the actual functions to perform these queries and filter operations, I will provide the final answer based on the logical steps described.\n",
    "```"
   ]
  },
  {
   "cell_type": "code",
   "execution_count": 44,
   "metadata": {},
   "outputs": [],
   "source": [
    "request=\"\"\"I'm looking for any units that status is not on.\n",
    "Please provide me list of Id such units. \n",
    "Once you know the query you should query the service with tools available for you.\"\"\""
   ]
  },
  {
   "cell_type": "markdown",
   "metadata": {},
   "source": [
    "- direct control"
   ]
  },
  {
   "cell_type": "code",
   "execution_count": 11,
   "metadata": {},
   "outputs": [],
   "source": [
    "request=\"Please set temperature to 18 for termosensor TermoSensor_Dnepr_1\""
   ]
  },
  {
   "cell_type": "markdown",
   "metadata": {},
   "source": [
    "#### Batch Operations\n",
    "\n",
    "Request to add/remove to topology several twins as one user's request"
   ]
  },
  {
   "cell_type": "code",
   "execution_count": 41,
   "metadata": {},
   "outputs": [],
   "source": [
    "request=\"\"\"For termosesnsors located in Odesa please set temperature 42 and status to on\"\"\" # GOOD"
   ]
  },
  {
   "cell_type": "markdown",
   "metadata": {},
   "source": [
    "### Execution\n",
    "\n",
    "Debug tips:\n",
    " - function call starts with `INFO:semantic_kernel.kernel:Calling`"
   ]
  },
  {
   "cell_type": "code",
   "execution_count": null,
   "metadata": {},
   "outputs": [],
   "source": [
    "question = system_message + request\n",
    "\n",
    "result = await planner.invoke(kernel, question)"
   ]
  },
  {
   "cell_type": "code",
   "execution_count": 46,
   "metadata": {},
   "outputs": [
    {
     "name": "stdout",
     "output_type": "stream",
     "text": [
      "Here is the list of units where the status is not \"on\":\n",
      "- TermoSensor_Dnepr_3\n",
      "- TermoSensor_Lviv_1\n",
      "- TermoSensor_Lviv_2\n",
      "- TermoSensor_Lviv_3\n",
      "- TermoSensor_Lviv_4\n"
     ]
    }
   ],
   "source": [
    "print(result.final_answer)"
   ]
  }
 ],
 "metadata": {
  "kernelspec": {
   "display_name": "Python 3",
   "language": "python",
   "name": "python3"
  },
  "language_info": {
   "codemirror_mode": {
    "name": "ipython",
    "version": 3
   },
   "file_extension": ".py",
   "mimetype": "text/x-python",
   "name": "python",
   "nbconvert_exporter": "python",
   "pygments_lexer": "ipython3",
   "version": "3.12.3"
  }
 },
 "nbformat": 4,
 "nbformat_minor": 2
}
