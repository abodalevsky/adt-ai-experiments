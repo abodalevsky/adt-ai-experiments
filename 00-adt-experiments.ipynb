{
 "cells": [
  {
   "cell_type": "markdown",
   "metadata": {},
   "source": [
    "# Experiment with Azure Digital Tween Service\n",
    "[Location](https://explorer.digitaltwins.azure.net/?tid=76a2ae5a-9f00-4f6b-95ed-5d33d77c4d61&eid=digitaltwins.api.weu.digitaltwins.azure.net)"
   ]
  },
  {
   "cell_type": "markdown",
   "metadata": {},
   "source": [
    "## Set up\n",
    "\n",
    "### Create Service Instance\n",
    "Create instance as described [here](https://learn.microsoft.com/en-gb/azure/digital-twins/quickstart-azure-digital-twins-explorer)\n",
    "\n",
    "### Define models\n",
    "To initial define set of models (ontology) was used Office 365 copilot and [prompt](prompts/Define%20models.txt). Some extra tuning was required.\n",
    "Models are stored in `ontology` folder.\n",
    "Then models were uploaded to service."
   ]
  },
  {
   "cell_type": "markdown",
   "metadata": {},
   "source": [
    "### Init"
   ]
  },
  {
   "cell_type": "code",
   "execution_count": 1,
   "metadata": {},
   "outputs": [],
   "source": [
    "import os\n",
    "from dotenv import load_dotenv\n",
    "from azure.digitaltwins.core import DigitalTwinsClient\n",
    "from azure.identity import DefaultAzureCredential\n",
    "\n",
    "# Load environment variables from .env file\n",
    "load_dotenv()\n",
    "\n",
    "# Access the environment variables\n",
    "digital_twin_endpoint = os.getenv(\"AZURE_DIGITAL_TWINS_ENDPOINT\")\n",
    "\n",
    "credential = DefaultAzureCredential()\n",
    "# Create an instance of the DigitalTwinsClient\n",
    "client = DigitalTwinsClient(digital_twin_endpoint, credential)"
   ]
  },
  {
   "cell_type": "markdown",
   "metadata": {},
   "source": [
    "## Experiments"
   ]
  },
  {
   "cell_type": "markdown",
   "metadata": {},
   "source": [
    "### Connect to ADT"
   ]
  },
  {
   "cell_type": "code",
   "execution_count": 8,
   "metadata": {},
   "outputs": [],
   "source": [
    "import json\n",
    "\n",
    "def upd_twin(twin_id, twin_data):\n",
    "    # Send data to the topology\n",
    "    try:\n",
    "        twin_data_dict = json.loads(twin_data)\n",
    "        client.upsert_digital_twin(twin_id, twin_data_dict)\n",
    "        return \"SUCCESS\"\n",
    "    except Exception as e:\n",
    "        print(\"Error sending data to Azure Digital Twins service topology:\", str(e))\n",
    "        return \"FAIL\"\n",
    "    \n",
    "def upd_rel(twin_id, relation_id, relation_data):\n",
    "    try:\n",
    "        relation_data_dict = json.loads(relation_data)\n",
    "        client.upsert_relationship(twin_id, relation_id, relation_data_dict)\n",
    "        return \"SUCCESS\"\n",
    "    except Exception as e:\n",
    "        print(\"Error sending data to Azure Digital Twins service topology:\", str(e))\n",
    "        return \"FAIL\"\n",
    "\n",
    "twin_id = \"HUB_4\"\n",
    "twin_data = \"\"\"\n",
    "    {\n",
    "        \"$metadata\":{\n",
    "            \"$model\":\"dtmi:com:example:ControlHub;1\"\n",
    "        },\n",
    "        \"name\":\"Hub_4_name\",\n",
    "        \"location\":\"Kyiv\",\n",
    "        \"status\":\"on\",\n",
    "        \"$relationships\":{\n",
    "            \"connects\":{\n",
    "                \"$targetId\":\"CentralUnit\",\n",
    "                \"$relationshipName\":\"connects\"\n",
    "            }\n",
    "        }\n",
    "    }\n",
    "\"\"\"\n",
    "\n",
    "twin_id_2 = \"CentralUnit\"\n",
    "relation_id=\"relationship1id\"\n",
    "relation_data = \"\"\"\n",
    "{\n",
    "    \"$relationshipId\": \"relationship1id\",\n",
    "    \"$sourceId\": \"CentralUnit\",\n",
    "    \"$relationshipName\": \"connects\",\n",
    "    \"$targetId\": \"HUB_4\",\n",
    "    \"$metadata\": {\n",
    "        \"$model\": \"dtmi:com:example:CentralUnit;1\"\n",
    "    }\n",
    "}\n",
    "\"\"\"\n"
   ]
  },
  {
   "cell_type": "code",
   "execution_count": 52,
   "metadata": {},
   "outputs": [
    {
     "data": {
      "text/plain": [
       "'SUCCESS'"
      ]
     },
     "execution_count": 52,
     "metadata": {},
     "output_type": "execute_result"
    }
   ],
   "source": [
    "upd_twin(twin_id, twin_data)"
   ]
  },
  {
   "cell_type": "code",
   "execution_count": 9,
   "metadata": {},
   "outputs": [],
   "source": [
    "upd_rel(twin_id_2, relation_id, relation_data)"
   ]
  },
  {
   "cell_type": "markdown",
   "metadata": {},
   "source": [
    "### Request data from ADT"
   ]
  },
  {
   "cell_type": "code",
   "execution_count": null,
   "metadata": {},
   "outputs": [],
   "source": [
    "import json\n",
    "def query_twin() -> str:\n",
    "    client = DigitalTwinsClient(digital_twin_endpoint, credential)\n",
    "\n",
    "    # Define your query\n",
    "    query = \"SELECT * FROM digitaltwins T WHERE IS_OF_MODEL(T, 'dtmi:com:example:CentralUnit;1')\"\n",
    "\n",
    "    # Execute the query\n",
    "    query_result = client.query_twins(query)\n",
    "\n",
    "    # Print the results\n",
    "    #for twin in query_result:\n",
    "    #    print(twin)\n",
    "\n",
    "    return json.dumps(list(query_result), indent=4)\n",
    "\n",
    "r = query_twin()\n",
    "\n",
    "print(r)"
   ]
  }
 ],
 "metadata": {
  "kernelspec": {
   "display_name": "Python 3",
   "language": "python",
   "name": "python3"
  },
  "language_info": {
   "codemirror_mode": {
    "name": "ipython",
    "version": 3
   },
   "file_extension": ".py",
   "mimetype": "text/x-python",
   "name": "python",
   "nbconvert_exporter": "python",
   "pygments_lexer": "ipython3",
   "version": "3.12.3"
  }
 },
 "nbformat": 4,
 "nbformat_minor": 2
}
