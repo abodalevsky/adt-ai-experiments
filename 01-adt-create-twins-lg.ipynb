{
 "cells": [
  {
   "cell_type": "markdown",
   "metadata": {},
   "source": [
    "# Experiment with Azure Digital Tween Service\n",
    "[Location](https://explorer.digitaltwins.azure.net/?tid=76a2ae5a-9f00-4f6b-95ed-5d33d77c4d61&eid=digitaltwins.api.weu.digitaltwins.azure.net)"
   ]
  },
  {
   "cell_type": "markdown",
   "metadata": {},
   "source": [
    "## Set up\n",
    "\n",
    "### Create Service Instance\n",
    "Create instance as described [here](https://learn.microsoft.com/en-gb/azure/digital-twins/quickstart-azure-digital-twins-explorer)\n",
    "\n",
    "### Define models\n",
    "To initial define set of models (ontology) was used Office 365 copilot and [prompt](prompts/Define%20models.txt). Some extra tuning was required.\n",
    "Models are stored in `ontology` folder.\n",
    "Then models were uploaded to service.\n",
    "\n",
    "### Ontology\n",
    "The service define several models as follow:\n",
    "\n",
    "- Model name: `CentralUnit` - which is main unit of the system exists in one instance. \n",
    "    If user want to create new CentralUnit, you must refuse it with message: \"Central Unit has to be created manually!\"\n",
    "\n",
    "- Model name: `ControlHub` - which is connection unit between _Central Unit_ and _Termo Sensors_. \n",
    "\n",
    "- Model name: `TermoSensor` - which conects to _Control Hub_ and reports temperature value."
   ]
  },
  {
   "cell_type": "markdown",
   "metadata": {},
   "source": [
    "## Gen AI\n",
    "Utilise GenAI to work with toplogy\n",
    "Add, update, remove digital twin to the graph.\n",
    "\n",
    "### Overview\n",
    "\n",
    "![ReAct](diagrams/ReAct.png)\n",
    "\n",
    "\n",
    "### Init"
   ]
  },
  {
   "cell_type": "code",
   "execution_count": 9,
   "metadata": {},
   "outputs": [],
   "source": [
    "import os\n",
    "from dotenv import load_dotenv\n",
    "\n",
    "# Load environment variables from .env file\n",
    "load_dotenv()\n",
    "os.environ[\"LANGCHAIN_TRACING_V2\"] = \"false\"\n",
    "os.environ[\"LANGCHAIN_PROJECT\"] = f\"DigTwin\"\n",
    "os.environ[\"LANGCHAIN_ENDPOINT\"] = \"https://api.smith.langchain.com\"\n",
    "\n",
    "# Access the environment variables\n",
    "digital_twin_endpoint = os.getenv(\"AZURE_DIGITAL_TWINS_ENDPOINT\")"
   ]
  },
  {
   "cell_type": "markdown",
   "metadata": {},
   "source": [
    "### Define Tools\n",
    "\n",
    "Tools that helps LLM to perform tasks on digital twins.\n",
    "\n",
    "- `get_module_definition` - defines modules and rules of handling digital twins. It's implementation of RAG architecture where user's input _augmented_ with details of the model that needs to be maintained.\n",
    "- `query_service` - requests information about _digital twin_ from Azure Digital Twins Query API.\n",
    "- `create_twin`, `delete_twin` - creates or deletes _digital twin_.\n",
    "- `update_relationship`, `delete_relationship` - creates or deletes _relationship_ between digital twins.\n"
   ]
  },
  {
   "cell_type": "code",
   "execution_count": 10,
   "metadata": {},
   "outputs": [],
   "source": [
    "from azure.digitaltwins.core import DigitalTwinsClient\n",
    "from azure.identity import DefaultAzureCredential\n",
    "from langchain.pydantic_v1 import BaseModel, Field\n",
    "from langchain_core.tools import tool\n",
    "import json\n",
    "\n",
    "credential = DefaultAzureCredential()\n",
    "\n",
    "# Create an instance of the DigitalTwinsClient\n",
    "client = DigitalTwinsClient(digital_twin_endpoint, credential)\n",
    "\n",
    "class ModelDefinitionInput(BaseModel):\n",
    "    model_type: str = Field(description=\"Model type that definition is required. For example: ControlHub or TermoSensor\")\n",
    "\n",
    "@tool(\"get-module-definition\", args_schema=ModelDefinitionInput)\n",
    "def get_module_definition(model_type:str) -> str:\n",
    "    \"\"\"\n",
    "        Used to get the model definition in Digital Twin Definition Language (DTDL) format. Should be used to get model specification before operation on digital twin.\n",
    "        \n",
    "        return: DTDL of the requested model and useful instruction how to use it.  If model name is not valid, the tool returns NA it means that execution is failed.\n",
    "    \"\"\"\n",
    "    if model_type == \"ControlHub\":\n",
    "        with open('ontology/ControlHub.json', 'r') as file:\n",
    "            definition = file.read()\n",
    "\n",
    "        instructions = \"\"\"\n",
    "        IMPORTANT NOTES:\n",
    "        1. The model id in $metadata section is dtmi:com:example:ControlHub;1\n",
    "        2. When requested creation new digital twin it must be performed in 2 steps:\n",
    "            - create new digital twin of ControlHub model\n",
    "            - create relationship between new digital twin and CentralUnit twin! ID of CentalUnit twin must be queried through Azure Digital Twins Query API.\n",
    "             $relationship Name should be \"connects\". source of the relationship is CentalUnit twin, target is ControlHub twin.\n",
    "        \"\"\"\n",
    "        return definition + instructions\n",
    "    elif model_type == \"TermoSensor\":\n",
    "        with open('ontology/TermoSensor.json', 'r') as file:\n",
    "            definition = file.read()\n",
    "\n",
    "        instructions = \"\"\"\n",
    "        IMPORTANT NOTES:\n",
    "        1. The model id in $metadata section is dtmi:com:example:TermoSensor;1\n",
    "        2. When requested creation new digital twin it must be performed in 2 steps:\n",
    "            - create new digital twin of TermoSensor model\n",
    "            - create relationship between new digital twin and ControlHub twin. \n",
    "                $relationship name should be \"connects\"\n",
    "                To make this relationship you must know id of ControlHub twin, this can be obtained by several ways:\n",
    "                - user can specify id of ControlHub twin in initial request - in this case you have this information.\n",
    "                - user may specidy name of ControlHub - in this case you must query its id through Azure Digital Twins Query API.\n",
    "                - if user does not provide neither name nor id you should use available for you human tool and ask the name of ControlHub twin. And then use it to get id as specified above.\n",
    "        \"\"\"\n",
    "        return definition + instructions\n",
    "    else:\n",
    "        return \"NA\"\n",
    "\n",
    "\n",
    "class CreateTwinInput(BaseModel):\n",
    "    twin_id: str = Field(description=\n",
    "    \"\"\"\n",
    "    The unique identifier of the digital twin that is going to be changed or created.\n",
    "    The identifier passed here must respect name convention for Azure Digital Twins Id\n",
    "    (alphabetical, numbers, underscore, up to 64 symbols)\n",
    "    \"\"\")\n",
    "    twin_data: str = Field(description=\n",
    "    \"\"\"\n",
    "    The format has to be Dictionary[string, object] represented as type string\n",
    "    The dictionary represent digital tween to be sent to the topology.\n",
    "    The format should be in Azure Digital Twins Definition Language (DTDL).\n",
    "    \n",
    "    IMPORTANT! The metadata section should contain id of the model, for example if\n",
    "    model id is dtmi:com:example:ControlHub;1 metadata section should looks like:\n",
    "    \"$metadata\": {\n",
    "        \"$model\": \"dtmi:com:example:ControlHub;1\"\n",
    "    },\n",
    "\n",
    "    The format must be valid to be sent as twin_data in following below example.\n",
    "        \n",
    "    from azure.digitaltwins.core import DigitalTwinsClient\n",
    "    \n",
    "    client = DigitalTwinsClient(digital_twin_endpoint, credential)\n",
    "    client.upsert_digital_twin(twin_id, twin_data)\n",
    "    \"\"\")\n",
    "\n",
    "@tool(\"create-twin-tool\", args_schema=CreateTwinInput)\n",
    "def create_twin(twin_id, twin_data)->str:\n",
    "    \"\"\"\n",
    "        Adds or Updates the digital twin of Azure Digital Twins Service.\n",
    "        This function should be used when you want to:\n",
    "            - create new digital twin\n",
    "            - update parameters for existed digital twin.\n",
    "\n",
    "        return: SUCCESS if the operation was successful, otherwise FAIL with description of the error, you're welcome to analyse error and fix it.\n",
    "    \"\"\"\n",
    "    \n",
    "    # Send data to the topology\n",
    "    try:\n",
    "        twin_data_dict = json.loads(twin_data)\n",
    "        client.upsert_digital_twin(twin_id, twin_data_dict)\n",
    "        return \"SUCCESS\\n\"\n",
    "    except Exception as e:\n",
    "        print(\"Error sending data to Azure Digital Twins service topology:\", str(e))\n",
    "        return f'FAIL: + {str(e)}\\n'\n",
    "    \n",
    "\n",
    "class DeleteTwinInput(BaseModel):\n",
    "    twin_id: str = Field(description=\n",
    "    \"\"\"\n",
    "    The unique identifier of the digital twin that is going to be deleted.\n",
    "    The identifier is a value of $dtId requested from Azure Digital Twins Query API\n",
    "    \"\"\")\n",
    "\n",
    "@tool(\"delete-twin-tool\", args_schema=DeleteTwinInput)\n",
    "def delete_twin(twin_id)->str:\n",
    "    \"\"\"\n",
    "        Delete the digital twin of Azure Digital Twins Service.\n",
    "        This function should be used when you want to delete digital twin.\n",
    "\n",
    "        return: SUCCESS if the operation was successful, otherwise FAIL with description of the error, you're welcome to analyse error and fix it.\n",
    "    \"\"\"\n",
    "    \n",
    "    # Send data to the topology\n",
    "    try:\n",
    "        client.delete_digital_twin(twin_id)\n",
    "        return \"SUCCESS\\n\"\n",
    "    except Exception as e:\n",
    "        print(\"Error deleting digital twin in Azure Digital Twins service topology:\", str(e))\n",
    "        return f'FAIL: + {str(e)}\\n'\n",
    "\n",
    "class UpdateRelationshipInput(BaseModel):\n",
    "    twin_id: str = Field(description=\n",
    "    \"\"\"\n",
    "    The unique identifier of the digital twin that is going to be the source of the connection.\n",
    "    The identifier is a value of $dtId requested from Azure Digital Twins Query API\n",
    "    \"\"\")\n",
    "    relation_id: str = Field(description=\n",
    "    \"\"\"\n",
    "    The unique identifier of the relationship may be provided by user. If not should be\n",
    "    generated by you. For example can be \"connection_1\"\n",
    "    \"\"\")\n",
    "    relation_data: str = Field(description=\n",
    "    \"\"\"\n",
    "    The format has to be Dictionary[string, object] represented as type string\n",
    "    The dictionary represent relationship to be sent to the topology.\n",
    "    The format should be in Azure Digital Twins Definition Language (DTDL).\n",
    "    \n",
    "    The format must be valid to be sent as relation_data in following below example.\n",
    "        \n",
    "    from azure.digitaltwins.core import DigitalTwinsClient\n",
    "    \n",
    "    client = DigitalTwinsClient(digital_twin_endpoint, credential)\n",
    "    client.upsert_relationship(twin_id, relation_id, relation_data)\n",
    "\n",
    "    It must contain:\n",
    "    {\n",
    "        \"$relationshipId\": \"relation_id\",\n",
    "        \"$sourceId\": \"source_id\",\n",
    "        \"$relationshipName\": \"connects\",\n",
    "        \"$targetId\": \"target_id\",\n",
    "        \"$metadata\": {\n",
    "            \"$model\": \"model_id\"\n",
    "        }\n",
    "    }\n",
    "\n",
    "    where:\n",
    "     - relation_id - the same unique identifier of the relationship as provided in relation_id argument\n",
    "     - source_id  - the same unique identifier of the digital twin as provided in twin_id argument\n",
    "     - \"connects\" - fixed keyword describes relationship\n",
    "     - target_id - the unique identifier of the digital twin that is originally was created. This is id of twin that user ask to create or modify.\n",
    "     - model_id - the unique identifier of the model that is used as source of relationship. Is obtained from model definition for source.\n",
    "    \"\"\")\n",
    "\n",
    "@tool(\"update-relationship-tool\", args_schema=UpdateRelationshipInput)\n",
    "def update_relationship(twin_id, relation_id, relation_data)->str:\n",
    "    \"\"\"\n",
    "        Update the relationship between twins in Azure Digital Twins Service.\n",
    "        This function should be used when you want to:\n",
    "            - create new relationship\n",
    "            - update parameters for existed relationship.\n",
    "    \"\"\"\n",
    "    \n",
    "    # Send data to the topology\n",
    "    try:\n",
    "        relation_data_dict = json.loads(relation_data)\n",
    "        client.upsert_relationship(twin_id, relation_id, relation_data_dict)\n",
    "        return \"SUCCESS\\n\"\n",
    "    except Exception as e:\n",
    "        print(\"Error updating relationship in Azure Digital Twins service:\", str(e))\n",
    "        return \"FAIL\\n\"\n",
    "\n",
    "class DeleteRelationshipInput(BaseModel):\n",
    "    twin_id: str = Field(description=\n",
    "    \"\"\"\n",
    "    The unique identifier of the digital twin that is going to be the source of the connection.\n",
    "    The identifier is a value of $dtId requested from Azure Digital Twins Query API\n",
    "    \"\"\")\n",
    "    relation_id: str = Field(description=\n",
    "    \"\"\"\n",
    "    The unique identifier of the relationship to be deleted.\n",
    "    The identifier is a value of $relationshipId requested from Azure Digital Twins Query API\n",
    "    \"\"\")\n",
    "\n",
    "@tool(\"delete-relationship-tool\", args_schema=DeleteRelationshipInput)\n",
    "def delete_relationship(twin_id, relation_id)->str:\n",
    "    \"\"\"\n",
    "        Delete the relationship between twins in Azure Digital Twins Service.\n",
    "\n",
    "        return: SUCCESS if the operation was successful, otherwise FAIL with description of the error, you're welcome to analyse error and fix it.\n",
    "    \"\"\"\n",
    "    \n",
    "    # Send data to the topology\n",
    "    try:\n",
    "        client.delete_relationship(twin_id, relation_id)\n",
    "        return \"SUCCESS\\n\"\n",
    "    except Exception as e:\n",
    "        print(\"Error deleting relationship in Azure Digital Twins service topology:\", str(e))\n",
    "        return f'FAIL: + {str(e)}\\n'\n",
    "\n",
    "class QueryTwinInput(BaseModel):\n",
    "    query: str = Field(description=\n",
    "    \"\"\"\n",
    "        Query in Azure Digital Twins Query API format that is going to be executed on Azure Digital Twin Service.\n",
    "         \n",
    "        For example: You need to know the details of ControlHub twin.\n",
    "        From topology you may get model definition for ControlHub iand from definition understand that id is dtmi:com:example:ControlHub;1\n",
    "        Thaen you can format request as:\n",
    "        SELECT * FROM digitaltwins T WHERE IS_OF_MODEL(T, 'dtmi:com:example:ControlHub;1')\n",
    "\n",
    "        The request returns all description of all twins with type ControlHub.\n",
    "    \"\"\")\n",
    "\n",
    "@tool(\"query-service\", args_schema=QueryTwinInput)\n",
    "def query_service(query:str) -> str:\n",
    "    \"\"\"\n",
    "        Request information about twins or relationships in Azure Digital Twins Service.\n",
    "        This function should be used whan you need to get information about particular twin or several items or relationships between them.\n",
    "\n",
    "        return: response from Azure Digital Twins Query API in JSON format. If function fails it return text started with FAIL word and description of the error, you're welcome to analyse error and fix it.\n",
    "    \"\"\"\n",
    "    if (query == None):\n",
    "        return \"FAIL: Query is not defined!\"\n",
    "\n",
    "    try:\n",
    "        query_result = client.query_twins(query)\n",
    "        json_result = json.dumps(list(query_result))\n",
    "        return json_result\n",
    "    except Exception as e:\n",
    "        print(\"Error deleting digital twin in Azure Digital Twins service topology:\", str(e))\n",
    "        return f'FAIL: + {str(e)}\\n'\n",
    "\n",
    "tools = [\n",
    "    get_module_definition,\n",
    "    create_twin, delete_twin, query_service,\n",
    "    update_relationship, delete_relationship\n",
    "]"
   ]
  },
  {
   "cell_type": "markdown",
   "metadata": {},
   "source": [
    "### Configure LLM\n",
    "Configure Azure Open AI"
   ]
  },
  {
   "cell_type": "code",
   "execution_count": 11,
   "metadata": {},
   "outputs": [],
   "source": [
    "from langchain_openai import AzureChatOpenAI\n",
    "\n",
    "model = AzureChatOpenAI(\n",
    "    openai_api_version=os.environ[\"AZURE_OPENAI_API_VERSION\"], # 2024-02-15-preview\n",
    "    azure_deployment=os.environ[\"AZURE_OPENAI_DEPLOYMENT_NAME\"], # gpt-4o\n",
    "    temperature=0.1\n",
    ")\n"
   ]
  },
  {
   "cell_type": "markdown",
   "metadata": {},
   "source": [
    "### Define graph"
   ]
  },
  {
   "cell_type": "code",
   "execution_count": 12,
   "metadata": {},
   "outputs": [],
   "source": [
    "def print_stream(stream):\n",
    "    for s in stream:\n",
    "        message = s[\"messages\"][-1]\n",
    "        if isinstance(message, tuple):\n",
    "            print(message)\n",
    "        else:\n",
    "            message.pretty_print()\n"
   ]
  },
  {
   "cell_type": "markdown",
   "metadata": {},
   "source": [
    "### Prompt engineering"
   ]
  },
  {
   "cell_type": "code",
   "execution_count": 13,
   "metadata": {},
   "outputs": [],
   "source": [
    "from langchain_core.messages import HumanMessage, SystemMessage, AIMessage\n",
    "\n",
    "system_message = SystemMessage(\n",
    "    content=\"\"\"\n",
    "    You are helpfull bot that is going to help with creation topology in Azure Digital Twins Service.\n",
    "    You should not answer with general information.\n",
    "    \n",
    "    The service define several models as follow:\n",
    "\n",
    "    - Model CentralUnit - which is main unit of the system exists in one instance. \n",
    "        You cannot create CentralUnit as it is already defined. If the creation will be requested refuse it.\n",
    "    - Model ControlHub - which is connection unit between CentralUnit and TermoSensors.\n",
    "    - Model TermoSensor - which conects to ControlHub and reports temperature value.\n",
    "\n",
    "    If user want to create, update, delte or request information about any unit you must use appropriate tool(s) and provide valid parameters. \n",
    "    Digital Twin Definition Language (DTDL) must be used to communicate with Azure Digital Twins Service. Note that properties are case sensetive\n",
    "    and must be passed exactly as defined in model, ignore the case of properties in user's input.\n",
    "\n",
    "    If user requests to create a new digital twin you must also specify relationship between this twin that acts as target and the other that acts as source.\n",
    "    You should never create twin without connection to source.\n",
    "\n",
    "    If user want update or delete exsted twin then user must specify twin id. If id is not provided, use human tool to ask user for it.\n",
    "\n",
    "    If you requested to create several twins (batch) you should think as follows:\n",
    "        - identify if there is hierarchy between twins, for example is there requested ControlHub and TermoSensors.\n",
    "        - if hierarchy presents you should start from \"higher\" twin (ControlHub) and create it accordingly to defined rules, when creation is done continue with\n",
    "        \"lower\" twins (TermoSensors) and create them accordingly to defined rules.\n",
    "        - if hierarchy is not presents you can create twins in any order.\n",
    "        - once all twins are created you can create relationships between them as requested.\n",
    "        - ControlHub must be connected to CentralUnit, TermoSensors must be connected to ControlHub.\n",
    "\n",
    "    Relationship between digital twins are stored separately from twins. If user request information where connection between twins presens you must request\n",
    "    relationship information from relationships collection!\n",
    "    For example for question: what temperature sensor connected to hub with id Node_23 valid query will be:\n",
    "    SELECT * FROM relationships WHERE $sourceId = 'Node_23'\n",
    "    Note request was done for relationships not digitaltwins collection.\n",
    "\n",
    "    \"\"\"\n",
    ")"
   ]
  },
  {
   "cell_type": "markdown",
   "metadata": {},
   "source": [
    "### Execution\n",
    "\n",
    "Is used ReAct approach that let LLM to think what steps should be done to achieve task and what tool is better fit this needs."
   ]
  },
  {
   "cell_type": "markdown",
   "metadata": {},
   "source": [
    "#### Control Hub\n",
    "\n",
    "- Add Control Hub"
   ]
  },
  {
   "cell_type": "code",
   "execution_count": 15,
   "metadata": {},
   "outputs": [],
   "source": [
    "human_message = HumanMessage(\n",
    "    content=\"Please create Control Hub with following parameters: Name: Hub_3, Location: Rivno, Status: on.\"\n",
    ")"
   ]
  },
  {
   "cell_type": "markdown",
   "metadata": {},
   "source": [
    "- Delete Control Hub"
   ]
  },
  {
   "cell_type": "code",
   "execution_count": 18,
   "metadata": {},
   "outputs": [],
   "source": [
    "human_message = HumanMessage(\n",
    "    content=\"Please delete Control Hub: Hub_3\"\n",
    ")"
   ]
  },
  {
   "cell_type": "code",
   "execution_count": 8,
   "metadata": {},
   "outputs": [],
   "source": [
    "human_message = HumanMessage(\n",
    "    content=\"Where is located Control Hub Odesa_Hub?\"\n",
    ")"
   ]
  },
  {
   "cell_type": "markdown",
   "metadata": {},
   "source": [
    "#### Add Temperature Sensor"
   ]
  },
  {
   "cell_type": "code",
   "execution_count": 12,
   "metadata": {},
   "outputs": [],
   "source": [
    "human_message = HumanMessage(\n",
    "    content=\"Please create new TermoSensor with following parameters: Name: Sensor_1, Location: Rivno, Temperature: 22, Status: on. This sensor must be connected to ControlHub id: Hub_3\"\n",
    ")"
   ]
  },
  {
   "cell_type": "markdown",
   "metadata": {},
   "source": [
    "#### Batch Task\n",
    "\n",
    "- add twins"
   ]
  },
  {
   "cell_type": "code",
   "execution_count": 18,
   "metadata": {},
   "outputs": [],
   "source": [
    "human_message = HumanMessage(\n",
    "    content=\"\"\"I want to add new location that contains 5 sensors. Status for all of them on. \n",
    "    They should be conected to ControlHub that is located in Odesa give the hub id meaningful value that reflects its location.\n",
    "    Location of sensor is the same as hub. Set temperature to each sensor as 39.\n",
    "    Do not forget to connect ControlHub to CentralUnit\"\"\"\n",
    ")\n"
   ]
  },
  {
   "cell_type": "markdown",
   "metadata": {},
   "source": [
    "- remove twins"
   ]
  },
  {
   "cell_type": "code",
   "execution_count": 20,
   "metadata": {},
   "outputs": [],
   "source": [
    "human_message = HumanMessage(\n",
    "    content=\"Please clean toplogy, remove all control hubs and termo sensors.\"\n",
    ")"
   ]
  },
  {
   "cell_type": "markdown",
   "metadata": {},
   "source": [
    "#### Start ReAct\n",
    "\n",
    "Reffer to [LangChain to LangGrap migration documentation](https://python.langchain.com/v0.2/docs/how_to/migrate_agent/)."
   ]
  },
  {
   "cell_type": "code",
   "execution_count": null,
   "metadata": {},
   "outputs": [],
   "source": [
    "from langgraph.prebuilt import create_react_agent\n",
    "from langchain_community.adapters.openai import convert_message_to_dict\n",
    "\n",
    "\n",
    "graph = create_react_agent(model, tools=tools, messages_modifier=system_message)\n",
    "\n",
    "\n",
    "input = {\n",
    "    \"messages\":[\n",
    "        human_message,\n",
    "    ]\n",
    "}\n",
    "\n",
    "print_stream(\n",
    "    graph.stream(input, stream_mode=\"values\")\n",
    ")\n"
   ]
  },
  {
   "cell_type": "code",
   "execution_count": 33,
   "metadata": {},
   "outputs": [
    {
     "data": {
      "image/jpeg": "[encoded data removed]",
      "text/plain": [
       "<IPython.core.display.Image object>"
      ]
     },
     "metadata": {},
     "output_type": "display_data"
    }
   ],
   "source": [
    "from IPython.display import Image, display\n",
    "\n",
    "display(Image(graph.get_graph().draw_mermaid_png()))"
   ]
  }
 ],
 "metadata": {
  "kernelspec": {
   "display_name": "Python 3",
   "language": "python",
   "name": "python3"
  },
  "language_info": {
   "codemirror_mode": {
    "name": "ipython",
    "version": 3
   },
   "file_extension": ".py",
   "mimetype": "text/x-python",
   "name": "python",
   "nbconvert_exporter": "python",
   "pygments_lexer": "ipython3",
   "version": "3.12.3"
  }
 },
 "nbformat": 4,
 "nbformat_minor": 2
}
