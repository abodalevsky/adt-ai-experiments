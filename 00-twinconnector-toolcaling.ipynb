{
 "cells": [
  {
   "cell_type": "markdown",
   "metadata": {},
   "source": [
    "# Experiment with Azure Digital Tween Service\n",
    "[Location](https://explorer.digitaltwins.azure.net/?tid=76a2ae5a-9f00-4f6b-95ed-5d33d77c4d61&eid=digitaltwins.api.weu.digitaltwins.azure.net)"
   ]
  },
  {
   "cell_type": "markdown",
   "metadata": {},
   "source": [
    "## Set up\n",
    "\n",
    "### Create Service Instance\n",
    "Create instance as described [here](https://learn.microsoft.com/en-gb/azure/digital-twins/quickstart-azure-digital-twins-explorer)\n",
    "\n",
    "### Define models\n",
    "To initial define set of models (ontology) was used Office 365 copilot and [prompt](prompts/Define%20models.txt). Some extra tuning was required.\n",
    "Models are stored in `ontology` folder.\n",
    "Then models were uploaded to service."
   ]
  },
  {
   "cell_type": "markdown",
   "metadata": {},
   "source": [
    "## Gen AI\n",
    "Utilise GenAI to work with toplogy\n",
    "Add, update, remove digital twin to the graph.\n",
    "\n",
    "### Init"
   ]
  },
  {
   "cell_type": "code",
   "execution_count": 1,
   "metadata": {},
   "outputs": [],
   "source": [
    "import os\n",
    "from dotenv import load_dotenv\n",
    "\n",
    "# Load environment variables from .env file\n",
    "load_dotenv()\n",
    "\n",
    "# Access the environment variables\n",
    "digital_twin_endpoint = os.getenv(\"AZURE_DIGITAL_TWINS_ENDPOINT\")"
   ]
  },
  {
   "cell_type": "markdown",
   "metadata": {},
   "source": [
    "### Define Tools"
   ]
  },
  {
   "cell_type": "code",
   "execution_count": 2,
   "metadata": {},
   "outputs": [],
   "source": [
    "from azure.digitaltwins.core import DigitalTwinsClient\n",
    "from azure.identity import DefaultAzureCredential\n",
    "from langchain.pydantic_v1 import BaseModel, Field\n",
    "from langchain_core.tools import tool\n",
    "import json\n",
    "\n",
    "credential = DefaultAzureCredential()\n",
    "\n",
    "class ModelDefinitionInput(BaseModel):\n",
    "    model_type: str = Field(description=\"Model type that definition is required. For example: ControlHub or TemperatureSensor\")\n",
    "\n",
    "@tool(\"get-module-definition\", args_schema=ModelDefinitionInput)\n",
    "def get_module_definition(model_type:str) -> str:\n",
    "    \"\"\"\n",
    "        Get the model definition in OTDL format and some usefull instructuion after.\n",
    "        If model name is not valid, the tool returns NA it means that execution is failed.\n",
    "    \"\"\"\n",
    "    if model_type == \"ControlHub\":\n",
    "        with open('ontology/ControlHub.json', 'r') as file:\n",
    "            definition = file.read()\n",
    "\n",
    "        instructions = \"\"\"\n",
    "        IMPORTANT NOTES:\n",
    "        1. The model id in $metadata section is dtmi:com:example:ControlHub;1\n",
    "        2. For creation new digital twin it must be connected to CentralUnit twin and this information must be reflected into request to update topology.\n",
    "            For this operation ID of CentalUnit twin must be queried through Azure Digital Twins Query API. \n",
    "            $relationshipName should be \"connects\"\n",
    "        \"\"\"\n",
    "        return definition + instructions\n",
    "    else:\n",
    "        return \"NA\"\n",
    "\n",
    "\n",
    "class UpdateTopologyInput(BaseModel):\n",
    "    twin_id: str = Field(description=\n",
    "    \"\"\" This is mandatoty parameter!\n",
    "    The unique identifier of the digital twin that is going to be changed or created.\n",
    "    The identifier passed here must respect name convention for Azure Digital Twins Id\n",
    "    (alphabetical, numbers, underscore, up to 64 symbols)\n",
    "    \"\"\")\n",
    "    twin_data: str = Field(description=\n",
    "    \"\"\" This is mandatoty parameter!\n",
    "    The format has to be Dictionary[string, object] represented as type string\n",
    "    The dictionary represent digital tween to be sent to the topology.\n",
    "    The format should be in Azure Digital Twins Definition Language (DTDL).\n",
    "    \n",
    "    IMPORTANT! The metadata section should contain id of the model, for example if\n",
    "    model id is dtmi:com:example:ControlHub;1 metadata section should looks like:\n",
    "    \"$metadata\": {\n",
    "        \"$model\": \"dtmi:com:example:ControlHub;1\"\n",
    "    },\n",
    "\n",
    "    The format must be valid to be sent as twin_data in following below example.\n",
    "        \n",
    "    from azure.digitaltwins.core import DigitalTwinsClient\n",
    "    \n",
    "    client = DigitalTwinsClient(digital_twin_endpoint, credential)\n",
    "    client.upsert_digital_twin(twin_id, twin_data)\n",
    "    \"\"\")\n",
    "\n",
    "@tool(\"update-topology-tool\", args_schema=UpdateTopologyInput)\n",
    "def update_topology(twin_id, twin_data)->str:\n",
    "    \"\"\"\n",
    "        Update the topology of Azure Digital Twins Service.\n",
    "        This function should be used when you want to:\n",
    "            - create new digital twin\n",
    "            - remove a digital twin\n",
    "            - update parameters for existed digital twin.\n",
    "    \"\"\"\n",
    "    \n",
    "    # Create an instance of the DigitalTwinsClient\n",
    "    client = DigitalTwinsClient(digital_twin_endpoint, credential)\n",
    "    \n",
    "    # Send data to the topology\n",
    "    try:\n",
    "        twin_data_dict = json.loads(twin_data)\n",
    "        client.upsert_digital_twin(twin_id, twin_data_dict)\n",
    "        return \"SUCCESS\"\n",
    "    except Exception as e:\n",
    "        print(\"Error sending data to Azure Digital Twins service topology:\", str(e))\n",
    "        return \"FAIL\"\n",
    "\n",
    "class QueryTwinInput(BaseModel):\n",
    "    query: str = Field(description=\n",
    "    \"\"\" This is required parameter!\n",
    "        Query in Azure Digital Twins Query API format that is going to be executed on Azure Digital Twin Service.\n",
    "         \n",
    "        For example: You need to know the details of ControlHub twin.\n",
    "        From topology you may get model definition for ControlHub iand from definition understand that id is dtmi:com:example:ControlHub;1\n",
    "        Thaen you can format request as:\n",
    "        SELECT * FROM digitaltwins T WHERE IS_OF_MODEL(T, 'dtmi:com:example:ControlHub;1')\n",
    "\n",
    "        The request returns all description of all twins with type ControlHub.\n",
    "    \"\"\")\n",
    "\n",
    "@tool(\"query-twin\", args_schema=QueryTwinInput)\n",
    "def query_twin(query:str) -> str:\n",
    "    \"\"\"\n",
    "        Request information about twins in Azure Digital Twins Service.\n",
    "        This function should be used whan you need to get information about particular twin or several items.\n",
    "\n",
    "        return: response from Azure Digital Twins Query API in JSON format.\n",
    "    \"\"\"\n",
    "    if (query == None):\n",
    "        return \"FAIL: Query is not defined!\"\n",
    "    \n",
    "    client = DigitalTwinsClient(digital_twin_endpoint, credential)\n",
    "\n",
    "    # Execute the query\n",
    "    query_result = client.query_twins(query)\n",
    "\n",
    "    # Convert the results to JSON\n",
    "    json_result = json.dumps(list(query_result))\n",
    "\n",
    "    # Return the JSON result\n",
    "    return json_result\n",
    "\n",
    "\n",
    "tools = [get_module_definition, update_topology, query_twin]"
   ]
  },
  {
   "cell_type": "code",
   "execution_count": null,
   "metadata": {},
   "outputs": [],
   "source": [
    "import json\n",
    "def query_twin() -> str:\n",
    "    client = DigitalTwinsClient(digital_twin_endpoint, credential)\n",
    "\n",
    "    # Define your query\n",
    "    query = \"SELECT * FROM digitaltwins T WHERE IS_OF_MODEL(T, 'dtmi:com:example:CentralUnit;1')\"\n",
    "\n",
    "    # Execute the query\n",
    "    query_result = client.query_twins(query)\n",
    "\n",
    "    # Print the results\n",
    "    #for twin in query_result:\n",
    "    #    print(twin)\n",
    "\n",
    "    return json.dumps(list(query_result), indent=4)\n",
    "\n",
    "r = query_twin()\n",
    "\n",
    "print(r)"
   ]
  },
  {
   "cell_type": "markdown",
   "metadata": {},
   "source": [
    "### Configure LLM\n",
    "Configure Azure Open AI"
   ]
  },
  {
   "cell_type": "code",
   "execution_count": 28,
   "metadata": {},
   "outputs": [],
   "source": [
    "from langchain_core.messages import HumanMessage, SystemMessage\n",
    "from langchain_openai import AzureChatOpenAI\n",
    "from langchain_core.messages import AIMessage\n",
    "from langchain_core.runnables import Runnable\n",
    "\n",
    "model = AzureChatOpenAI(\n",
    "    openai_api_version=os.environ[\"AZURE_OPENAI_API_VERSION\"], # 2024-02-15-preview\n",
    "    azure_deployment=os.environ[\"AZURE_OPENAI_DEPLOYED_NAME\"], # gpt-4o\n",
    "    temperature=0.1\n",
    ")"
   ]
  },
  {
   "cell_type": "markdown",
   "metadata": {},
   "source": [
    "### Prompt engineering"
   ]
  },
  {
   "cell_type": "code",
   "execution_count": 29,
   "metadata": {},
   "outputs": [],
   "source": [
    "from langchain_core.prompts import ChatPromptTemplate\n",
    "\n",
    "system_message = SystemMessage(\n",
    "    content=\"\"\"\n",
    "    You are helpfull bot that is going to help with creation topology in Azure Digital Twins Service.\n",
    "    You should not answer with general information, you must help with topology by user request.\n",
    "    The service define several models as follow:\n",
    "\n",
    "    - Model name: CentralUnit - which is main unit of the system exists in one instance. \n",
    "    If user want to create new CentralUnit, you must refuse it with message: \"Central Unit has to be created manually!\"\n",
    "\n",
    "    - Modle name: ControlHub - which is connection unit between CentralUnit and TermoSensors. You need OTDL definition to generate valid instructions.\n",
    "    If user want to create new ControlHub you must use tool and provide valid parameters. \n",
    "    \n",
    "    \n",
    "    If user want update or delete exsted twin then user must specify twin id. If id is not provided, you must refuse it with message: \"DONE with error Twin Id is required!\"\n",
    "    If you was able to perform requested action, you must provide message: \"DONE with success\"\n",
    "    \"\"\"\n",
    ")\n",
    "\n",
    "prompt = ChatPromptTemplate.from_messages(\n",
    "    [\n",
    "        system_message,\n",
    "        (\"human\", \"{input}\"),\n",
    "        (\"placeholder\", \"{agent_scratchpad}\"),\n",
    "    ]\n",
    ")"
   ]
  },
  {
   "cell_type": "markdown",
   "metadata": {},
   "source": [
    "### Execution\n",
    "\n",
    "Is used ReAct approach that let LLM to think what steps should be done to achieve task and what tool is better fit this needs.\n",
    "Several agent were cinsidered from [available](https://python.langchain.com/v0.1/docs/modules/agents/agent_types/)"
   ]
  },
  {
   "cell_type": "markdown",
   "metadata": {},
   "source": [
    "#### Add Control Hub"
   ]
  },
  {
   "cell_type": "code",
   "execution_count": 34,
   "metadata": {},
   "outputs": [],
   "source": [
    "human_message = HumanMessage(\n",
    "    content=\"Please create Control Hub with following parameters: Name: Hub_2, Location: Kyiv, Status: on.\"\n",
    ")"
   ]
  },
  {
   "cell_type": "markdown",
   "metadata": {},
   "source": [
    "#### Add Temperature Sensor"
   ]
  },
  {
   "cell_type": "code",
   "execution_count": null,
   "metadata": {},
   "outputs": [],
   "source": [
    "print(\"hello world!\")"
   ]
  },
  {
   "cell_type": "markdown",
   "metadata": {},
   "source": [
    "#### Start ReAct"
   ]
  },
  {
   "cell_type": "code",
   "execution_count": 35,
   "metadata": {},
   "outputs": [
    {
     "name": "stdout",
     "output_type": "stream",
     "text": [
      "\n",
      "\n",
      "\u001b[1m> Entering new AgentExecutor chain...\u001b[0m\n",
      "\u001b[32;1m\u001b[1;3m\n",
      "Invoking: `get-module-definition` with `{'model_type': 'ControlHub'}`\n",
      "\n",
      "\n",
      "\u001b[0m\u001b[36;1m\u001b[1;3m{\n",
      "    \"@id\": \"dtmi:com:example:ControlHub;1\",\n",
      "    \"@type\": \"Interface\",\n",
      "    \"displayName\": \"Control Hub\",\n",
      "    \"contents\": [\n",
      "        {\n",
      "            \"@type\": \"Property\",\n",
      "            \"name\": \"name\",\n",
      "            \"schema\": \"string\",\n",
      "            \"writable\": true,\n",
      "            \"displayName\": \"Name\",\n",
      "            \"description\": \"Name configured by user\"\n",
      "        },\n",
      "        {\n",
      "            \"@type\": \"Property\",\n",
      "            \"name\": \"location\",\n",
      "            \"schema\": \"string\",\n",
      "            \"writable\": true,\n",
      "            \"displayName\": \"Location\",\n",
      "            \"description\": \"Location of the sensor specified by user\"\n",
      "        },\n",
      "        {\n",
      "            \"@type\": \"Property\",\n",
      "            \"name\": \"status\",\n",
      "            \"schema\": {\n",
      "                \"@type\": \"Enum\",\n",
      "                \"valueSchema\": \"string\",\n",
      "                \"enumValues\": [\n",
      "                    {\"name\": \"on\", \"displayName\": \"On\", \"enumValue\": \"on\"},\n",
      "                    {\"name\": \"off\", \"displayName\": \"Off\", \"enumValue\": \"off\"},\n",
      "                    {\"name\": \"na\", \"displayName\": \"N/A\", \"enumValue\": \"na\"},\n",
      "                    {\"name\": \"partial\", \"displayName\": \"Partial\", \"enumValue\": \"partial\"}\n",
      "                ]\n",
      "            },\n",
      "            \"writable\": true,\n",
      "            \"displayName\": \"Status\",\n",
      "            \"description\": \"Operational status\"\n",
      "        },\n",
      "        {\n",
      "            \"@type\": \"Relationship\",\n",
      "            \"name\": \"connects\",\n",
      "            \"minMultiplicity\": 0,\n",
      "            \"maxMultiplicity\": 100,\n",
      "            \"target\": \"dtmi:com:example:TermoSensor;1\",\n",
      "            \"displayName\": \"Connects\",\n",
      "            \"description\": \"The central unit connects to Termo Sensors\"\n",
      "        }\n",
      "    ],\n",
      "    \"@context\": \"dtmi:dtdl:context;2\"\n",
      "}\n",
      "\n",
      "        IMPORTANT NOTES:\n",
      "        1. The model id in $metadata section is dtmi:com:example:ControlHub;1\n",
      "        2. For creation new digital twin it must be connected to CentralUnit twin and this information must be reflected into request to update topology.\n",
      "            For this operation ID of CentalUnit twin must be queried through Azure Digital Twins Query API. \n",
      "            $relationshipName should be \"connects\"\n",
      "        \u001b[0m\u001b[32;1m\u001b[1;3m\n",
      "Invoking: `query-twin` with `{'query': \"SELECT * FROM digitaltwins T WHERE IS_OF_MODEL(T, 'dtmi:com:example:CentralUnit;1')\"}`\n",
      "\n",
      "\n",
      "\u001b[0m\u001b[38;5;200m\u001b[1;3m[{\"$dtId\": \"CentralUnit\", \"$etag\": \"W/\\\"b3475e2b-08af-4c4c-a1cc-b84dc74845e6\\\"\", \"$metadata\": {\"$model\": \"dtmi:com:example:CentralUnit;1\", \"$lastUpdateTime\": \"2024-07-05T07:18:42.8171974Z\"}}]\u001b[0m\u001b[32;1m\u001b[1;3m\n",
      "Invoking: `update-topology-tool` with `{'twin_id': 'Hub_2', 'twin_data': '{\"$metadata\":{\"$model\":\"dtmi:com:example:ControlHub;1\"},\"name\":\"Hub_2\",\"location\":\"Kyiv\",\"status\":\"on\",\"$relationships\":{\"connects\":{\"$targetId\":\"CentralUnit\",\"$relationshipName\":\"connects\"}}}'}`\n",
      "\n",
      "\n",
      "\u001b[0m\u001b[33;1m\u001b[1;3mSUCCESS\u001b[0m\u001b[32;1m\u001b[1;3mDONE with success\u001b[0m\n",
      "\n",
      "\u001b[1m> Finished chain.\u001b[0m\n"
     ]
    }
   ],
   "source": [
    "# from langchain import hub\n",
    "from langchain.agents import AgentExecutor, create_tool_calling_agent\n",
    "\n",
    "agent = create_tool_calling_agent(model, tools, prompt)\n",
    "\n",
    "agent_executor = AgentExecutor(agent=agent, tools=tools, verbose=True)\n",
    "\n",
    "result = agent_executor.invoke({\"input\": human_message.content})\n"
   ]
  },
  {
   "cell_type": "code",
   "execution_count": 8,
   "metadata": {},
   "outputs": [],
   "source": [
    "# Create an instance of the DigitalTwinsClient\n",
    "client = DigitalTwinsClient(digital_twin_endpoint, credential)\n",
    "\n",
    "def upd_twin(twin_id, twin_data):\n",
    "    # Send data to the topology\n",
    "    try:\n",
    "        twin_data_dict = json.loads(twin_data)\n",
    "        client.upsert_digital_twin(twin_id, twin_data_dict)\n",
    "        return \"SUCCESS\"\n",
    "    except Exception as e:\n",
    "        print(\"Error sending data to Azure Digital Twins service topology:\", str(e))\n",
    "        return \"FAIL\"\n",
    "    \n",
    "def upd_rel(twin_id, relation_id, relation_data):\n",
    "    try:\n",
    "        relation_data_dict = json.loads(relation_data)\n",
    "        client.upsert_relationship(twin_id, relation_id, relation_data_dict)\n",
    "        return \"SUCCESS\"\n",
    "    except Exception as e:\n",
    "        print(\"Error sending data to Azure Digital Twins service topology:\", str(e))\n",
    "        return \"FAIL\"\n",
    "\n",
    "twin_id = \"HUB_4\"\n",
    "twin_data = \"\"\"\n",
    "    {\n",
    "        \"$metadata\":{\n",
    "            \"$model\":\"dtmi:com:example:ControlHub;1\"\n",
    "        },\n",
    "        \"name\":\"Hub_4_name\",\n",
    "        \"location\":\"Kyiv\",\n",
    "        \"status\":\"on\",\n",
    "        \"$relationships\":{\n",
    "            \"connects\":{\n",
    "                \"$targetId\":\"CentralUnit\",\n",
    "                \"$relationshipName\":\"connects\"\n",
    "            }\n",
    "        }\n",
    "    }\n",
    "\"\"\"\n",
    "\n",
    "twin_id_2 = \"CentralUnit\"\n",
    "relation_id=\"relationship1id\"\n",
    "relation_data = \"\"\"\n",
    "{\n",
    "    \"$relationshipId\": \"relationship1id\",\n",
    "    \"$sourceId\": \"CentralUnit\",\n",
    "    \"$relationshipName\": \"connects\",\n",
    "    \"$targetId\": \"HUB_4\",\n",
    "    \"$metadata\": {\n",
    "        \"$model\": \"dtmi:com:example:CentralUnit;1\"\n",
    "    }\n",
    "}\n",
    "\"\"\"\n"
   ]
  },
  {
   "cell_type": "code",
   "execution_count": 52,
   "metadata": {},
   "outputs": [
    {
     "data": {
      "text/plain": [
       "'SUCCESS'"
      ]
     },
     "execution_count": 52,
     "metadata": {},
     "output_type": "execute_result"
    }
   ],
   "source": [
    "upd_twin(twin_id, twin_data)"
   ]
  },
  {
   "cell_type": "code",
   "execution_count": 9,
   "metadata": {},
   "outputs": [],
   "source": [
    "upd_rel(twin_id_2, relation_id, relation_data)"
   ]
  }
 ],
 "metadata": {
  "kernelspec": {
   "display_name": "Python 3",
   "language": "python",
   "name": "python3"
  },
  "language_info": {
   "codemirror_mode": {
    "name": "ipython",
    "version": 3
   },
   "file_extension": ".py",
   "mimetype": "text/x-python",
   "name": "python",
   "nbconvert_exporter": "python",
   "pygments_lexer": "ipython3",
   "version": "3.12.3"
  }
 },
 "nbformat": 4,
 "nbformat_minor": 2
}
